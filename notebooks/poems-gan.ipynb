{
 "cells": [
  {
   "cell_type": "code",
   "execution_count": 1,
   "metadata": {},
   "outputs": [],
   "source": [
    "%reload_ext autoreload\n",
    "%autoreload 2\n",
    "%matplotlib inline"
   ]
  },
  {
   "cell_type": "code",
   "execution_count": 2,
   "metadata": {},
   "outputs": [],
   "source": [
    "from fastai import *\n",
    "from fastai.text import *"
   ]
  },
  {
   "cell_type": "code",
   "execution_count": 3,
   "metadata": {},
   "outputs": [],
   "source": [
    "path = Path('../data')"
   ]
  },
  {
   "cell_type": "code",
   "execution_count": 4,
   "metadata": {},
   "outputs": [
    {
     "data": {
      "text/html": [
       "<table border=\"1\" class=\"dataframe\">\n",
       "  <thead>\n",
       "    <tr style=\"text-align: right;\">\n",
       "      <th>idx</th>\n",
       "      <th>text</th>\n",
       "    </tr>\n",
       "  </thead>\n",
       "  <tbody>\n",
       "    <tr>\n",
       "      <td>0</td>\n",
       "      <td>! heart ! \\n  o the bleeding drops of red , \\n  xxmaj where on the deck my xxmaj captain lies , \\n  xxmaj fallen cold and dead . \\n \\n  o xxmaj captain ! my xxmaj captain ! rise up and hear the bells ; \\n  xxmaj rise up -- for you the flag is flung -- for you the bugle trills ; 10</td>\n",
       "    </tr>\n",
       "    <tr>\n",
       "      <td>1</td>\n",
       "      <td>ten thousand saw i at a glance , \\n  xxmaj tossing their heads in sprightly dance . \\n \\n \\n  xxmaj the waves beside them danced ; but they \\n  xxmaj out - did the sparkling waves in glee : \\n  a poet could not but be gay , \\n  xxmaj in such a jocund company : \\n  i gazed — and gazed —</td>\n",
       "    </tr>\n",
       "    <tr>\n",
       "      <td>2</td>\n",
       "      <td>xxmaj what did i know , what did i know \\n  of love 's austere and lonely offices ? xxbos \\n \\n  xxup life , believe , is not a dream \\n  xxmaj so dark as sages say ; \\n  xxmaj oft a little morning rain \\n  xxmaj foretells a pleasant day . \\n  xxmaj sometimes there are clouds of gloom , \\n</td>\n",
       "    </tr>\n",
       "    <tr>\n",
       "      <td>3</td>\n",
       "      <td>nought can xxmaj deform the xxmaj human xxmaj race \\n  xxmaj like to the xxmaj armours iron brace \\n  xxmaj when xxmaj gold &amp; xxmaj gems adorn the xxmaj plow \\n  xxmaj to peaceful xxmaj arts shall xxmaj envy xxmaj bow \\n  a xxmaj riddle or the xxmaj crickets xxmaj cry \\n  xxmaj is to xxmaj doubt a fit xxmaj reply \\n  xxmaj the</td>\n",
       "    </tr>\n",
       "    <tr>\n",
       "      <td>4</td>\n",
       "      <td>xxmaj not everything that can be counted counts , \\n  and not everything that counts can be counted . \\n \\n \\n  xxmaj only one who devotes himself \\n  to a cause \\n  with his whole strength and soul \\n  can be a true master . \\n  xxmaj for this reason mastery \\n  demands all of a person . \\n \\n \\n</td>\n",
       "    </tr>\n",
       "  </tbody>\n",
       "</table>"
      ],
      "text/plain": [
       "<IPython.core.display.HTML object>"
      ]
     },
     "metadata": {},
     "output_type": "display_data"
    }
   ],
   "source": [
    "data_lm = load_data(path, 'poems_ds')\n",
    "data_lm.show_batch()"
   ]
  },
  {
   "cell_type": "code",
   "execution_count": 5,
   "metadata": {},
   "outputs": [],
   "source": [
    "trn_dl = data_lm.train_dl\n",
    "val_dl = data_lm.valid_dl"
   ]
  },
  {
   "cell_type": "code",
   "execution_count": 6,
   "metadata": {},
   "outputs": [],
   "source": [
    "def lm_loss(input, target, kld_weight=0):\n",
    "    sl, bs = target.size()\n",
    "    sl_in,bs_in,nc = input.size()\n",
    "    return F.cross_entropy(input.view(-1,nc), target.view(-1))"
   ]
  },
  {
   "cell_type": "code",
   "execution_count": 16,
   "metadata": {},
   "outputs": [],
   "source": [
    "def bn_drop_lin(n_in, n_out, bn=True, initrange=0.01,p=0, bias=True, actn=nn.LeakyReLU(inplace=True)):\n",
    "    layers = [nn.BatchNorm1d(n_in)] if bn else []\n",
    "    if p != 0: layers.append(nn.Dropout(p))\n",
    "    linear = nn.Linear(n_in, n_out, bias=bias)\n",
    "    if initrange:linear.weight.data.uniform_(-initrange, initrange)\n",
    "    if bias: linear.bias.data.zero_()\n",
    "    layers.append(linear)\n",
    "    if actn is not None: layers.append(actn)\n",
    "    return layers"
   ]
  },
  {
   "cell_type": "code",
   "execution_count": 8,
   "metadata": {},
   "outputs": [
    {
     "data": {
      "text/plain": [
       "LanguageLearner(data=TextLMDataBunch;\n",
       "\n",
       "Train: LabelList (672 items)\n",
       "x: LMTextList\n",
       "xxbos o xxmaj captain ! my xxmaj captain ! our fearful trip is done ; \n",
       "  xxmaj the ship has weather'd every rack , the prize we sought is won ; \n",
       "  xxmaj the port is near , the bells i hear , the people all exulting , \n",
       "  xxmaj while follow eyes the steady keel , the vessel grim and daring : \n",
       "  xxmaj but o heart ! heart ! heart ! \n",
       "  o the bleeding drops of red , \n",
       "  xxmaj where on the deck my xxmaj captain lies , \n",
       "  xxmaj fallen cold and dead . \n",
       " \n",
       "  o xxmaj captain ! my xxmaj captain ! rise up and hear the bells ; \n",
       "  xxmaj rise up -- for you the flag is flung -- for you the bugle trills ; 10 \n",
       "  xxmaj for you bouquets and ribbon'd wreaths -- for you the shores a - crowding ; \n",
       "  xxmaj for you they call , the swaying mass , their eager faces turning ; \n",
       "  xxmaj here xxmaj captain ! dear father ! \n",
       "  xxmaj this arm beneath your head ; \n",
       "  xxmaj it is some dream that on the deck , \n",
       "  xxmaj you 've fallen cold and dead . \n",
       " \n",
       "  xxmaj my xxmaj captain does not answer , his lips are pale and still ; \n",
       "  xxmaj my father does not feel my arm , he has no pulse nor will ; \n",
       "  xxmaj the ship is anchor'd safe and sound , its voyage closed and done ; \n",
       "  xxmaj from fearful trip , the victor ship , comes in with object won ; 20 \n",
       "  xxmaj exult , o shores , and ring , o bells ! \n",
       "  xxmaj but i , with mournful tread , \n",
       "  xxmaj walk the deck my xxmaj captain lies , \n",
       "  xxmaj fallen cold and dead .,xxbos xxmaj this is thy hour o xxmaj soul , thy free flight into the wordless , \n",
       "  xxmaj away from books , away from art , the day erased , the lesson done , \n",
       "  xxmaj thee fully forth emerging , silent , gazing , pondering the themes thou \n",
       "  lovest best . \n",
       "  xxmaj night , sleep , death and the stars .,xxbos xxmaj this is thy hour o xxmaj soul , thy free flight into the wordless , \n",
       "  xxmaj away from books , away from art , the day erased , the lesson done , \n",
       "  xxmaj thee fully forth emerging , silent , gazing , pondering the themes thou \n",
       "  lovest best . \n",
       "  xxmaj night , sleep , death and the stars .,xxbos a glimpse , through an interstice caught , \n",
       "  xxmaj of a crowd of workmen and drivers in a bar - room , around the stove , \n",
       "  late of a winter night -- xxmaj and i unremark'd seated in a corner ; \n",
       "  xxmaj of a youth who loves me , and whom i love , silently approaching , and \n",
       "  seating himself near , that he may hold me by the hand ; \n",
       "  a long while , amid the noises of coming and going -- of drinking and \n",
       "  oath and smutty jest , \n",
       "  xxmaj there we two , content , happy in being together , speaking little , \n",
       "  perhaps not a word .,xxbos xxmaj silent and amazed , even when a little boy , \n",
       "  i remember i heard the preacher every xxmaj sunday put xxmaj god in his \n",
       "  statements , \n",
       "  xxmaj as contending against some being or influence .\n",
       "y: LMLabelList\n",
       ",,,,\n",
       "Path: ../data;\n",
       "\n",
       "Valid: LabelList (74 items)\n",
       "x: LMTextList\n",
       "xxbos \n",
       " \n",
       " \n",
       " \n",
       "  xxmaj walking to - day on the xxmaj common , \n",
       "  i heard a stranger say \n",
       "  xxmaj to a friend who was standing near him , \n",
       "  ' xxmaj do you know i am going away ? ' \n",
       "  i had never seen their faces , \n",
       "  xxmaj may never see them again ; \n",
       "  xxmaj yet the words the stranger uttered , \n",
       "  xxmaj stirred me with nameless pain . \n",
       " \n",
       " \n",
       "  xxmaj for i knew some heart would miss him , \n",
       "  xxmaj would ache at his going away ! \n",
       "  xxmaj and the earth would seem all xxunk \n",
       "  xxmaj for many and many a day . \n",
       "  xxmaj no matter how light my spirits , \n",
       "  xxmaj no matter how glad my heart , \n",
       "  xxmaj if i hear those two words spoken , \n",
       "  xxmaj the teardrops always start . \n",
       " \n",
       " \n",
       "  xxmaj they are so sad and solemn , \n",
       "  xxmaj so full of a lonely sound ; \n",
       "  xxmaj like dead leaves rustling downward , \n",
       "  xxmaj and dropping upon the ground , \n",
       "  xxmaj oh , i pity the naked branches , \n",
       "  xxmaj when the skies are dull and gray , \n",
       "  xxmaj and the last leaf whispers softly , \n",
       "  ' xxmaj good - bye , i am going away . ' \n",
       " \n",
       " \n",
       "  xxmaj in the dreary , dripping autumn , \n",
       "  xxmaj the wings of the flying birds , \n",
       "  xxmaj as they soar away to the south land , \n",
       "  xxmaj seem always to say those words . \n",
       "  xxmaj wherever they may be spoken , \n",
       "  xxmaj they fall with a sob and a sigh ; \n",
       "  xxmaj and xxunk follow the sentence , \n",
       "  ' i am going away , xxmaj good - bye . ' \n",
       " \n",
       " \n",
       "  o xxmaj god , in xxmaj thy blessed kingdom , \n",
       "  xxmaj no lips shall ever say , \n",
       "  xxmaj no ears shall ever xxunk \n",
       "  xxmaj to the words ' i am going away . ' \n",
       "  xxmaj for no soul ever xxunk \n",
       "  xxmaj of the dear , bright angel land , \n",
       "  xxmaj and no saint ever wanders \n",
       "  xxmaj from the sunny golden land .,xxbos \n",
       " \n",
       "  xxmaj paw marks near one burrow show xxmaj xxunk \n",
       "  at home , i bend low , from down there swivel \n",
       "  my head , xxunk level -- the world \n",
       "  goes on forever , the mountains a xxunk \n",
       "  burrow , their snow like last winter . xxmaj from a room \n",
       "  inside the world even the strongest wind \n",
       "  has a soft sound : a new house will hide \n",
       "  in the grass ; footsteps are only the summer people . \n",
       " \n",
       " \n",
       "  xxmaj the real estate xxunk is saying , \" xxmaj xxunk . . . \n",
       "  easy xxunk , a view . \" i see \n",
       "  my prints in the dirt . xxmaj out there \n",
       "  in the wind we talk about credit , xxunk \n",
       "  there on the bank by xxmaj xxunk 's home .,xxbos xxmaj animal xxunk and xxunk to drink , \n",
       "  xxmaj that is the finest of xxunk i think ; \n",
       "  xxmaj when i 'm grown up and can have what i please \n",
       "  i think i shall always xxunk upon these . \n",
       "  xxmaj what do xxup you choose when you 're offered a treat ? \n",
       "  xxmaj when xxmaj mother says , ' xxmaj what would you like best to eat ? ' \n",
       "  xxmaj is it xxunk and xxunk , or xxunk toast ? \n",
       "  xxmaj it 's xxunk and animals that i love most ! \n",
       " \n",
       " \n",
       "  xxmaj the kitchen 's the xxunk place that i know ; \n",
       "  xxmaj the kettle is singing , the stove is aglow , \n",
       "  xxmaj and there in the twilight , how jolly to see \n",
       "  xxmaj the xxunk and animals waiting for me . \n",
       " \n",
       " \n",
       "  xxmaj daddy and xxmaj mother dine later in state , \n",
       "  xxmaj with xxmaj mary to cook for them , xxmaj xxunk to wait ; \n",
       "  xxmaj but they do n't have nearly as much fun as i \n",
       "  xxmaj who eat in the kitchen with xxmaj nurse standing by ; \n",
       "  xxmaj and xxmaj daddy once said , he would like to be me \n",
       "  xxmaj having xxunk and animals once more for tea . \n",
       " \n",
       " \n",
       " \n",
       " \n",
       "  a was an elegant xxmaj ape \n",
       "  xxmaj who tied up his ears with red tape , \n",
       "  xxmaj and wore a long veil \n",
       "  xxmaj half revealing his tail \n",
       "  xxmaj which was trimmed with jet bugles and crape . \n",
       " \n",
       " \n",
       "  b was a xxunk old xxmaj bear \n",
       "  xxmaj who used to xxunk ! i declare \n",
       "  i can eat -- if you 'll get me \n",
       "  xxmaj the children , and let me-- \n",
       "  xxmaj ten xxunk , teeth , xxunk and hair ! ' \n",
       " \n",
       " \n",
       "  c was a xxmaj xxunk who sighed \n",
       "  xxmaj when snatched from the home of his pride , \n",
       "  xxmaj but could he , xxunk , \n",
       "  xxmaj guess this fragrance behind , \n",
       "  xxmaj how glad he would be that he died ! \n",
       " \n",
       " \n",
       "  d was a xxunk xxmaj dog \n",
       "  xxmaj who xxunk it 's raining like fog \n",
       "  i wear no xxunk , \n",
       "  xxmaj me boy , for a xxunk \n",
       "  xxmaj might just as well travel xxunk ! ' \n",
       " \n",
       " \n",
       "  e was an elderly xxmaj eel \n",
       "  xxmaj who would xxunk , i really feel-- \n",
       "  xxmaj as my xxunk wriggle \n",
       "  xxmaj and shout ' i should xxunk \n",
       "  a trifle run down at the heel ! ' \n",
       " \n",
       " \n",
       "  xxunk was a xxmaj fowl who xxunk \n",
       "  xxunk xxmaj some xxunk hens might xxunk more eggs than xxunk she xxunk xxunk \n",
       "  xxmaj but she 'd children as plenty \n",
       "  xxmaj as eighteen or twenty , \n",
       "  xxmaj and that was quite all that she needed . \n",
       " \n",
       " \n",
       "  g was a xxunk xxmaj goat \n",
       "  xxmaj who , dining one day , xxunk table - d'hote , xxunk \n",
       "  xxmaj ordered soup - bone , xxunk xxunk xxunk xxunk , \n",
       "  xxmaj and fish , xxunk xxunk - xxunk xxunk , \n",
       "  xxmaj and a xxunk xxunk xxunk of xxmaj spring xxunk . \n",
       " \n",
       " \n",
       "  xxunk was a high - xxunk xxmaj hound \n",
       "  xxmaj who could clear forty feet at a bound , \n",
       "  xxmaj and a xxunk once averred \n",
       "  xxmaj that his howl could be heard \n",
       "  xxmaj for five miles and three - quarters around . \n",
       " \n",
       " \n",
       "  i was an xxmaj xxunk ambitious \n",
       "  xxmaj to dive over chasms xxunk ; \n",
       "  xxmaj he would leap down a peak \n",
       "  xxmaj and not light for a week , \n",
       "  xxmaj and swear that the jump was delicious . \n",
       " \n",
       " \n",
       "  xxunk was a xxmaj xxunk who said \n",
       "  xxmaj he had such a bad cold in his head , \n",
       "  xxmaj if it was n't for leaving \n",
       "  xxmaj the rest of us grieving , \n",
       "  xxmaj he 'd really rather be dead . \n",
       " \n",
       " \n",
       "  xxunk was a xxunk xxmaj kite \n",
       "  xxmaj who would haunt the saloons every night ; \n",
       "  xxmaj and often he xxunk \n",
       "  xxmaj to reel back to his roost \n",
       "  xxmaj too full to set up on it right . \n",
       " \n",
       " \n",
       "  xxunk was a wary old xxmaj xxunk \n",
       "  xxmaj who would xxunk you know wot i xxunk \n",
       "  i thinks xxunk you happen \n",
       "  xxmaj to xxunk me a - xxunk ' \n",
       "  i 'm ready to set up the drinks ! ' \n",
       " \n",
       " \n",
       "  xxunk was a merry old xxmaj xxunk , \n",
       "  xxmaj who would xxunk all the day in his hole , \n",
       "  xxmaj then -- all night , a - xxunk ' \n",
       "  xxmaj around and xxunk \n",
       "  xxmaj he 'd sing ' xxmaj xxunk , xxmaj fill up the xxmaj bowl ! ' \n",
       " \n",
       " \n",
       "  n was a xxunk xxmaj xxunk \n",
       "  xxmaj who sneered , ' i suppose , when they 've xxunk caught xxunk all us , \n",
       "  xxmaj like oysters they 'll serve us , \n",
       "  xxmaj and can us , preserve us , \n",
       "  xxmaj and barrel , and pickle , and bottle us ! ' \n",
       " \n",
       " \n",
       "  o was an xxunk xxmaj xxunk \n",
       "  xxmaj such a wise -- such a wonderful fowl ! \n",
       "  xxmaj why , for all the night through \n",
       "  xxmaj he would xxunk and xxunk - xxunk , \n",
       "  xxmaj and xxunk and xxunk - xxunk and howl ! \n",
       " \n",
       " \n",
       "  xxunk was a xxmaj pelican pet , \n",
       "  xxmaj who gobbled up all he could get ; \n",
       "  xxmaj he could eat on until \n",
       "  xxmaj he was full to the bill , \n",
       "  xxmaj and there he had lodgings to let ! \n",
       " \n",
       " \n",
       "  xxunk was a querulous xxmaj xxunk , \n",
       "  xxmaj who said : ' xxmaj it will little avail \n",
       "  xxmaj the efforts of those \n",
       "  xxmaj of my foes who xxunk \n",
       "  xxmaj to attempt to put salt on my tail ! ' \n",
       " \n",
       " \n",
       "  xxunk was a ring - xxunk xxmaj xxunk , \n",
       "  xxmaj with eyes of the tinge of the moon , \n",
       "  xxmaj and his nose a blue - black , \n",
       "  xxmaj and the fur on his back \n",
       "  a sad sort of xxunk xxunk . \n",
       " \n",
       " \n",
       "  s is a xxmaj xxunk -- xxunk wish \n",
       "  xxmaj very much to have one on your dish , \n",
       "  xxmaj since all his bones grow \n",
       "  xxmaj on the outside , and so \n",
       "  xxmaj he 's a very desirable fish . \n",
       " \n",
       " \n",
       "  t was a xxmaj turtle , of wealth , \n",
       "  xxmaj who went round with particular xxunk \n",
       "  ' xxmaj why , ' said he , ' i 'm afraid \n",
       "  xxmaj of being xxunk \n",
       "  xxmaj when i even walk out for my health ! ' \n",
       " \n",
       " \n",
       "  u was a xxmaj xxunk curious , \n",
       "  xxmaj with one horn , of a growth so xxunk xxunk xxunk , \n",
       "  xxmaj he could level and stab xxunk \n",
       "  xxmaj if you did n't grab xxunk \n",
       "  xxmaj clean through you , he was so blamed furious ! \n",
       " \n",
       " \n",
       "  v was a vagabond xxmaj vulture \n",
       "  xxmaj who said : ' i do n't want to insult xxunk , \n",
       "  xxmaj but when you xxunk \n",
       "  xxmaj where in lone solitude \n",
       "  i 'm a - xxunk ' , you 're no man o ' culture ! ' \n",
       " \n",
       " \n",
       "  xxunk was a wild xxunk xxmaj xxunk , \n",
       "  xxmaj and you can just bet that he xxunk could xxunk ' xxunk ' \n",
       "  xxmaj he 'd eat raw potatoes , \n",
       "  xxmaj green corn , and xxunk , \n",
       "  xxmaj and tree roots , and call it all ' xxunk good xxunk xxunk ! ' \n",
       " \n",
       " \n",
       "  x was a kind of x - xxunk \n",
       "  xxmaj of a some - sort - xxunk that got loose \n",
       "  xxmaj before we could name it , \n",
       "  xxmaj and cage it , and tame it , \n",
       "  xxmaj and bring it in general use . \n",
       " \n",
       " \n",
       "  xxunk is the xxmaj xxunk \n",
       "  xxmaj as a xxunk lump of star - light , \n",
       "  xxmaj or a handful of xxunk \n",
       "  xxmaj xxunk , xxunk in the xxunk \n",
       "  xxmaj pink fist of a boy , at night . \n",
       " \n",
       " \n",
       "  z is the xxmaj xxunk , of xxunk \n",
       "  a kind of a clown - of - a - xxunk \n",
       "  xxmaj each other despising , \n",
       "  xxmaj yet neither xxunk \n",
       "  a way to obtain a divorce ! \n",
       " \n",
       " \n",
       "  & here is the famous -- what - is - it ? \n",
       "  xxmaj walk up , xxmaj master xxmaj xxunk , and xxunk it : \n",
       "  xxmaj you 've seen the xxunk rest xxunk of ' xxunk \n",
       "  xxmaj ai n't this the xxunk best xxunk of 'em , \n",
       "  xxmaj right at the end of your visit,xxbos \n",
       " \n",
       "  xxmaj at night , when the sea cradles me \n",
       "  xxmaj and the pale star gleam \n",
       "  xxmaj lies down on its broad waves , \n",
       "  xxmaj then i free myself wholly \n",
       "  xxmaj from all activity and all the love \n",
       "  xxmaj and stand silent and breathe purely , \n",
       "  xxmaj alone , alone xxunk by the sea \n",
       "  xxmaj that lies there , cold and silent , with a thousand lights . \n",
       "  xxmaj then i have to think of my friends \n",
       "  xxmaj and my gaze sinks into their xxunk \n",
       "  xxmaj and i ask each one , silent , alone : \n",
       "  \" xxmaj are you still mine \" \n",
       "  xxmaj is my sorrow a sorrow to you , my death a death ? \n",
       "  xxmaj do you feel from my love , my grief , \n",
       "  xxmaj just a breath , just an echo ? \" \n",
       "  xxmaj and the sea xxunk xxunk back , silent , \n",
       "  xxmaj and smiles : no . \n",
       "  xxmaj and no greeting and now answer comes from anywhere .,xxbos \n",
       " \n",
       "  xxmaj how distant , the departure of young men \n",
       "  xxmaj down valleys , or watching \n",
       "  xxmaj the green shore past the salt - white xxunk \n",
       "  xxmaj rising and falling . \n",
       " \n",
       " \n",
       "  xxmaj xxunk , or xxunk , or keen \n",
       "  xxmaj simply to get away \n",
       "  xxmaj from married xxunk before morning , \n",
       "  xxmaj xxunk play \n",
       " \n",
       " \n",
       "  xxmaj on tiny decks past fraying cliffs of water \n",
       "  xxmaj or late at night \n",
       "  xxmaj sweet under the xxunk - swung stars , \n",
       "  xxmaj when the chance sight \n",
       " \n",
       " \n",
       "  xxmaj of a girl doing her laundry in the xxunk \n",
       "  xxmaj xxunk endlessly . \n",
       "  xxmaj this is being young , \n",
       "  xxmaj xxunk of the startled century \n",
       " \n",
       " \n",
       "  xxmaj like new store clothes , \n",
       "  xxmaj the huge xxunk printed out by feet \n",
       "  xxmaj xxunk where they tread , \n",
       "  xxmaj the random windows xxunk a street .\n",
       "y: LMLabelList\n",
       ",,,,\n",
       "Path: ../data;\n",
       "\n",
       "Test: None, model=SequentialRNN(\n",
       "  (0): AWD_LSTM(\n",
       "    (encoder): Embedding(17096, 400, padding_idx=1)\n",
       "    (encoder_dp): EmbeddingDropout(\n",
       "      (emb): Embedding(17096, 400, padding_idx=1)\n",
       "    )\n",
       "    (rnns): ModuleList(\n",
       "      (0): WeightDropout(\n",
       "        (module): LSTM(400, 1150, batch_first=True)\n",
       "      )\n",
       "      (1): WeightDropout(\n",
       "        (module): LSTM(1150, 1150, batch_first=True)\n",
       "      )\n",
       "      (2): WeightDropout(\n",
       "        (module): LSTM(1150, 400, batch_first=True)\n",
       "      )\n",
       "    )\n",
       "    (input_dp): RNNDropout()\n",
       "    (hidden_dps): ModuleList(\n",
       "      (0): RNNDropout()\n",
       "      (1): RNNDropout()\n",
       "      (2): RNNDropout()\n",
       "    )\n",
       "  )\n",
       "  (1): LinearDecoder(\n",
       "    (decoder): Linear(in_features=400, out_features=17096, bias=True)\n",
       "    (output_dp): RNNDropout()\n",
       "  )\n",
       "), opt_func=functools.partial(<class 'torch.optim.adam.Adam'>, betas=(0.9, 0.99)), loss_func=FlattenedLoss of CrossEntropyLoss(), metrics=[<function accuracy at 0x7fc2e2847048>], true_wd=True, bn_wd=True, wd=0.01, train_bn=True, path=PosixPath('../data'), model_dir='models', callback_fns=[functools.partial(<class 'fastai.basic_train.Recorder'>, add_time=True)], callbacks=[RNNTrainer\n",
       "learn: LanguageLearner(data=TextLMDataBunch;\n",
       "\n",
       "Train: LabelList (672 items)\n",
       "x: LMTextList\n",
       "xxbos o xxmaj captain ! my xxmaj captain ! our fearful trip is done ; \n",
       "  xxmaj the ship has weather'd every rack , the prize we sought is won ; \n",
       "  xxmaj the port is near , the bells i hear , the people all exulting , \n",
       "  xxmaj while follow eyes the steady keel , the vessel grim and daring : \n",
       "  xxmaj but o heart ! heart ! heart ! \n",
       "  o the bleeding drops of red , \n",
       "  xxmaj where on the deck my xxmaj captain lies , \n",
       "  xxmaj fallen cold and dead . \n",
       " \n",
       "  o xxmaj captain ! my xxmaj captain ! rise up and hear the bells ; \n",
       "  xxmaj rise up -- for you the flag is flung -- for you the bugle trills ; 10 \n",
       "  xxmaj for you bouquets and ribbon'd wreaths -- for you the shores a - crowding ; \n",
       "  xxmaj for you they call , the swaying mass , their eager faces turning ; \n",
       "  xxmaj here xxmaj captain ! dear father ! \n",
       "  xxmaj this arm beneath your head ; \n",
       "  xxmaj it is some dream that on the deck , \n",
       "  xxmaj you 've fallen cold and dead . \n",
       " \n",
       "  xxmaj my xxmaj captain does not answer , his lips are pale and still ; \n",
       "  xxmaj my father does not feel my arm , he has no pulse nor will ; \n",
       "  xxmaj the ship is anchor'd safe and sound , its voyage closed and done ; \n",
       "  xxmaj from fearful trip , the victor ship , comes in with object won ; 20 \n",
       "  xxmaj exult , o shores , and ring , o bells ! \n",
       "  xxmaj but i , with mournful tread , \n",
       "  xxmaj walk the deck my xxmaj captain lies , \n",
       "  xxmaj fallen cold and dead .,xxbos xxmaj this is thy hour o xxmaj soul , thy free flight into the wordless , \n",
       "  xxmaj away from books , away from art , the day erased , the lesson done , \n",
       "  xxmaj thee fully forth emerging , silent , gazing , pondering the themes thou \n",
       "  lovest best . \n",
       "  xxmaj night , sleep , death and the stars .,xxbos xxmaj this is thy hour o xxmaj soul , thy free flight into the wordless , \n",
       "  xxmaj away from books , away from art , the day erased , the lesson done , \n",
       "  xxmaj thee fully forth emerging , silent , gazing , pondering the themes thou \n",
       "  lovest best . \n",
       "  xxmaj night , sleep , death and the stars .,xxbos a glimpse , through an interstice caught , \n",
       "  xxmaj of a crowd of workmen and drivers in a bar - room , around the stove , \n",
       "  late of a winter night -- xxmaj and i unremark'd seated in a corner ; \n",
       "  xxmaj of a youth who loves me , and whom i love , silently approaching , and \n",
       "  seating himself near , that he may hold me by the hand ; \n",
       "  a long while , amid the noises of coming and going -- of drinking and \n",
       "  oath and smutty jest , \n",
       "  xxmaj there we two , content , happy in being together , speaking little , \n",
       "  perhaps not a word .,xxbos xxmaj silent and amazed , even when a little boy , \n",
       "  i remember i heard the preacher every xxmaj sunday put xxmaj god in his \n",
       "  statements , \n",
       "  xxmaj as contending against some being or influence .\n",
       "y: LMLabelList\n",
       ",,,,\n",
       "Path: ../data;\n",
       "\n",
       "Valid: LabelList (74 items)\n",
       "x: LMTextList\n",
       "xxbos \n",
       " \n",
       " \n",
       " \n",
       "  xxmaj walking to - day on the xxmaj common , \n",
       "  i heard a stranger say \n",
       "  xxmaj to a friend who was standing near him , \n",
       "  ' xxmaj do you know i am going away ? ' \n",
       "  i had never seen their faces , \n",
       "  xxmaj may never see them again ; \n",
       "  xxmaj yet the words the stranger uttered , \n",
       "  xxmaj stirred me with nameless pain . \n",
       " \n",
       " \n",
       "  xxmaj for i knew some heart would miss him , \n",
       "  xxmaj would ache at his going away ! \n",
       "  xxmaj and the earth would seem all xxunk \n",
       "  xxmaj for many and many a day . \n",
       "  xxmaj no matter how light my spirits , \n",
       "  xxmaj no matter how glad my heart , \n",
       "  xxmaj if i hear those two words spoken , \n",
       "  xxmaj the teardrops always start . \n",
       " \n",
       " \n",
       "  xxmaj they are so sad and solemn , \n",
       "  xxmaj so full of a lonely sound ; \n",
       "  xxmaj like dead leaves rustling downward , \n",
       "  xxmaj and dropping upon the ground , \n",
       "  xxmaj oh , i pity the naked branches , \n",
       "  xxmaj when the skies are dull and gray , \n",
       "  xxmaj and the last leaf whispers softly , \n",
       "  ' xxmaj good - bye , i am going away . ' \n",
       " \n",
       " \n",
       "  xxmaj in the dreary , dripping autumn , \n",
       "  xxmaj the wings of the flying birds , \n",
       "  xxmaj as they soar away to the south land , \n",
       "  xxmaj seem always to say those words . \n",
       "  xxmaj wherever they may be spoken , \n",
       "  xxmaj they fall with a sob and a sigh ; \n",
       "  xxmaj and xxunk follow the sentence , \n",
       "  ' i am going away , xxmaj good - bye . ' \n",
       " \n",
       " \n",
       "  o xxmaj god , in xxmaj thy blessed kingdom , \n",
       "  xxmaj no lips shall ever say , \n",
       "  xxmaj no ears shall ever xxunk \n",
       "  xxmaj to the words ' i am going away . ' \n",
       "  xxmaj for no soul ever xxunk \n",
       "  xxmaj of the dear , bright angel land , \n",
       "  xxmaj and no saint ever wanders \n",
       "  xxmaj from the sunny golden land .,xxbos \n",
       " \n",
       "  xxmaj paw marks near one burrow show xxmaj xxunk \n",
       "  at home , i bend low , from down there swivel \n",
       "  my head , xxunk level -- the world \n",
       "  goes on forever , the mountains a xxunk \n",
       "  burrow , their snow like last winter . xxmaj from a room \n",
       "  inside the world even the strongest wind \n",
       "  has a soft sound : a new house will hide \n",
       "  in the grass ; footsteps are only the summer people . \n",
       " \n",
       " \n",
       "  xxmaj the real estate xxunk is saying , \" xxmaj xxunk . . . \n",
       "  easy xxunk , a view . \" i see \n",
       "  my prints in the dirt . xxmaj out there \n",
       "  in the wind we talk about credit , xxunk \n",
       "  there on the bank by xxmaj xxunk 's home .,xxbos xxmaj animal xxunk and xxunk to drink , \n",
       "  xxmaj that is the finest of xxunk i think ; \n",
       "  xxmaj when i 'm grown up and can have what i please \n",
       "  i think i shall always xxunk upon these . \n",
       "  xxmaj what do xxup you choose when you 're offered a treat ? \n",
       "  xxmaj when xxmaj mother says , ' xxmaj what would you like best to eat ? ' \n",
       "  xxmaj is it xxunk and xxunk , or xxunk toast ? \n",
       "  xxmaj it 's xxunk and animals that i love most ! \n",
       " \n",
       " \n",
       "  xxmaj the kitchen 's the xxunk place that i know ; \n",
       "  xxmaj the kettle is singing , the stove is aglow , \n",
       "  xxmaj and there in the twilight , how jolly to see \n",
       "  xxmaj the xxunk and animals waiting for me . \n",
       " \n",
       " \n",
       "  xxmaj daddy and xxmaj mother dine later in state , \n",
       "  xxmaj with xxmaj mary to cook for them , xxmaj xxunk to wait ; \n",
       "  xxmaj but they do n't have nearly as much fun as i \n",
       "  xxmaj who eat in the kitchen with xxmaj nurse standing by ; \n",
       "  xxmaj and xxmaj daddy once said , he would like to be me \n",
       "  xxmaj having xxunk and animals once more for tea . \n",
       " \n",
       " \n",
       " \n",
       " \n",
       "  a was an elegant xxmaj ape \n",
       "  xxmaj who tied up his ears with red tape , \n",
       "  xxmaj and wore a long veil \n",
       "  xxmaj half revealing his tail \n",
       "  xxmaj which was trimmed with jet bugles and crape . \n",
       " \n",
       " \n",
       "  b was a xxunk old xxmaj bear \n",
       "  xxmaj who used to xxunk ! i declare \n",
       "  i can eat -- if you 'll get me \n",
       "  xxmaj the children , and let me-- \n",
       "  xxmaj ten xxunk , teeth , xxunk and hair ! ' \n",
       " \n",
       " \n",
       "  c was a xxmaj xxunk who sighed \n",
       "  xxmaj when snatched from the home of his pride , \n",
       "  xxmaj but could he , xxunk , \n",
       "  xxmaj guess this fragrance behind , \n",
       "  xxmaj how glad he would be that he died ! \n",
       " \n",
       " \n",
       "  d was a xxunk xxmaj dog \n",
       "  xxmaj who xxunk it 's raining like fog \n",
       "  i wear no xxunk , \n",
       "  xxmaj me boy , for a xxunk \n",
       "  xxmaj might just as well travel xxunk ! ' \n",
       " \n",
       " \n",
       "  e was an elderly xxmaj eel \n",
       "  xxmaj who would xxunk , i really feel-- \n",
       "  xxmaj as my xxunk wriggle \n",
       "  xxmaj and shout ' i should xxunk \n",
       "  a trifle run down at the heel ! ' \n",
       " \n",
       " \n",
       "  xxunk was a xxmaj fowl who xxunk \n",
       "  xxunk xxmaj some xxunk hens might xxunk more eggs than xxunk she xxunk xxunk \n",
       "  xxmaj but she 'd children as plenty \n",
       "  xxmaj as eighteen or twenty , \n",
       "  xxmaj and that was quite all that she needed . \n",
       " \n",
       " \n",
       "  g was a xxunk xxmaj goat \n",
       "  xxmaj who , dining one day , xxunk table - d'hote , xxunk \n",
       "  xxmaj ordered soup - bone , xxunk xxunk xxunk xxunk , \n",
       "  xxmaj and fish , xxunk xxunk - xxunk xxunk , \n",
       "  xxmaj and a xxunk xxunk xxunk of xxmaj spring xxunk . \n",
       " \n",
       " \n",
       "  xxunk was a high - xxunk xxmaj hound \n",
       "  xxmaj who could clear forty feet at a bound , \n",
       "  xxmaj and a xxunk once averred \n",
       "  xxmaj that his howl could be heard \n",
       "  xxmaj for five miles and three - quarters around . \n",
       " \n",
       " \n",
       "  i was an xxmaj xxunk ambitious \n",
       "  xxmaj to dive over chasms xxunk ; \n",
       "  xxmaj he would leap down a peak \n",
       "  xxmaj and not light for a week , \n",
       "  xxmaj and swear that the jump was delicious . \n",
       " \n",
       " \n",
       "  xxunk was a xxmaj xxunk who said \n",
       "  xxmaj he had such a bad cold in his head , \n",
       "  xxmaj if it was n't for leaving \n",
       "  xxmaj the rest of us grieving , \n",
       "  xxmaj he 'd really rather be dead . \n",
       " \n",
       " \n",
       "  xxunk was a xxunk xxmaj kite \n",
       "  xxmaj who would haunt the saloons every night ; \n",
       "  xxmaj and often he xxunk \n",
       "  xxmaj to reel back to his roost \n",
       "  xxmaj too full to set up on it right . \n",
       " \n",
       " \n",
       "  xxunk was a wary old xxmaj xxunk \n",
       "  xxmaj who would xxunk you know wot i xxunk \n",
       "  i thinks xxunk you happen \n",
       "  xxmaj to xxunk me a - xxunk ' \n",
       "  i 'm ready to set up the drinks ! ' \n",
       " \n",
       " \n",
       "  xxunk was a merry old xxmaj xxunk , \n",
       "  xxmaj who would xxunk all the day in his hole , \n",
       "  xxmaj then -- all night , a - xxunk ' \n",
       "  xxmaj around and xxunk \n",
       "  xxmaj he 'd sing ' xxmaj xxunk , xxmaj fill up the xxmaj bowl ! ' \n",
       " \n",
       " \n",
       "  n was a xxunk xxmaj xxunk \n",
       "  xxmaj who sneered , ' i suppose , when they 've xxunk caught xxunk all us , \n",
       "  xxmaj like oysters they 'll serve us , \n",
       "  xxmaj and can us , preserve us , \n",
       "  xxmaj and barrel , and pickle , and bottle us ! ' \n",
       " \n",
       " \n",
       "  o was an xxunk xxmaj xxunk \n",
       "  xxmaj such a wise -- such a wonderful fowl ! \n",
       "  xxmaj why , for all the night through \n",
       "  xxmaj he would xxunk and xxunk - xxunk , \n",
       "  xxmaj and xxunk and xxunk - xxunk and howl ! \n",
       " \n",
       " \n",
       "  xxunk was a xxmaj pelican pet , \n",
       "  xxmaj who gobbled up all he could get ; \n",
       "  xxmaj he could eat on until \n",
       "  xxmaj he was full to the bill , \n",
       "  xxmaj and there he had lodgings to let ! \n",
       " \n",
       " \n",
       "  xxunk was a querulous xxmaj xxunk , \n",
       "  xxmaj who said : ' xxmaj it will little avail \n",
       "  xxmaj the efforts of those \n",
       "  xxmaj of my foes who xxunk \n",
       "  xxmaj to attempt to put salt on my tail ! ' \n",
       " \n",
       " \n",
       "  xxunk was a ring - xxunk xxmaj xxunk , \n",
       "  xxmaj with eyes of the tinge of the moon , \n",
       "  xxmaj and his nose a blue - black , \n",
       "  xxmaj and the fur on his back \n",
       "  a sad sort of xxunk xxunk . \n",
       " \n",
       " \n",
       "  s is a xxmaj xxunk -- xxunk wish \n",
       "  xxmaj very much to have one on your dish , \n",
       "  xxmaj since all his bones grow \n",
       "  xxmaj on the outside , and so \n",
       "  xxmaj he 's a very desirable fish . \n",
       " \n",
       " \n",
       "  t was a xxmaj turtle , of wealth , \n",
       "  xxmaj who went round with particular xxunk \n",
       "  ' xxmaj why , ' said he , ' i 'm afraid \n",
       "  xxmaj of being xxunk \n",
       "  xxmaj when i even walk out for my health ! ' \n",
       " \n",
       " \n",
       "  u was a xxmaj xxunk curious , \n",
       "  xxmaj with one horn , of a growth so xxunk xxunk xxunk , \n",
       "  xxmaj he could level and stab xxunk \n",
       "  xxmaj if you did n't grab xxunk \n",
       "  xxmaj clean through you , he was so blamed furious ! \n",
       " \n",
       " \n",
       "  v was a vagabond xxmaj vulture \n",
       "  xxmaj who said : ' i do n't want to insult xxunk , \n",
       "  xxmaj but when you xxunk \n",
       "  xxmaj where in lone solitude \n",
       "  i 'm a - xxunk ' , you 're no man o ' culture ! ' \n",
       " \n",
       " \n",
       "  xxunk was a wild xxunk xxmaj xxunk , \n",
       "  xxmaj and you can just bet that he xxunk could xxunk ' xxunk ' \n",
       "  xxmaj he 'd eat raw potatoes , \n",
       "  xxmaj green corn , and xxunk , \n",
       "  xxmaj and tree roots , and call it all ' xxunk good xxunk xxunk ! ' \n",
       " \n",
       " \n",
       "  x was a kind of x - xxunk \n",
       "  xxmaj of a some - sort - xxunk that got loose \n",
       "  xxmaj before we could name it , \n",
       "  xxmaj and cage it , and tame it , \n",
       "  xxmaj and bring it in general use . \n",
       " \n",
       " \n",
       "  xxunk is the xxmaj xxunk \n",
       "  xxmaj as a xxunk lump of star - light , \n",
       "  xxmaj or a handful of xxunk \n",
       "  xxmaj xxunk , xxunk in the xxunk \n",
       "  xxmaj pink fist of a boy , at night . \n",
       " \n",
       " \n",
       "  z is the xxmaj xxunk , of xxunk \n",
       "  a kind of a clown - of - a - xxunk \n",
       "  xxmaj each other despising , \n",
       "  xxmaj yet neither xxunk \n",
       "  a way to obtain a divorce ! \n",
       " \n",
       " \n",
       "  & here is the famous -- what - is - it ? \n",
       "  xxmaj walk up , xxmaj master xxmaj xxunk , and xxunk it : \n",
       "  xxmaj you 've seen the xxunk rest xxunk of ' xxunk \n",
       "  xxmaj ai n't this the xxunk best xxunk of 'em , \n",
       "  xxmaj right at the end of your visit,xxbos \n",
       " \n",
       "  xxmaj at night , when the sea cradles me \n",
       "  xxmaj and the pale star gleam \n",
       "  xxmaj lies down on its broad waves , \n",
       "  xxmaj then i free myself wholly \n",
       "  xxmaj from all activity and all the love \n",
       "  xxmaj and stand silent and breathe purely , \n",
       "  xxmaj alone , alone xxunk by the sea \n",
       "  xxmaj that lies there , cold and silent , with a thousand lights . \n",
       "  xxmaj then i have to think of my friends \n",
       "  xxmaj and my gaze sinks into their xxunk \n",
       "  xxmaj and i ask each one , silent , alone : \n",
       "  \" xxmaj are you still mine \" \n",
       "  xxmaj is my sorrow a sorrow to you , my death a death ? \n",
       "  xxmaj do you feel from my love , my grief , \n",
       "  xxmaj just a breath , just an echo ? \" \n",
       "  xxmaj and the sea xxunk xxunk back , silent , \n",
       "  xxmaj and smiles : no . \n",
       "  xxmaj and no greeting and now answer comes from anywhere .,xxbos \n",
       " \n",
       "  xxmaj how distant , the departure of young men \n",
       "  xxmaj down valleys , or watching \n",
       "  xxmaj the green shore past the salt - white xxunk \n",
       "  xxmaj rising and falling . \n",
       " \n",
       " \n",
       "  xxmaj xxunk , or xxunk , or keen \n",
       "  xxmaj simply to get away \n",
       "  xxmaj from married xxunk before morning , \n",
       "  xxmaj xxunk play \n",
       " \n",
       " \n",
       "  xxmaj on tiny decks past fraying cliffs of water \n",
       "  xxmaj or late at night \n",
       "  xxmaj sweet under the xxunk - swung stars , \n",
       "  xxmaj when the chance sight \n",
       " \n",
       " \n",
       "  xxmaj of a girl doing her laundry in the xxunk \n",
       "  xxmaj xxunk endlessly . \n",
       "  xxmaj this is being young , \n",
       "  xxmaj xxunk of the startled century \n",
       " \n",
       " \n",
       "  xxmaj like new store clothes , \n",
       "  xxmaj the huge xxunk printed out by feet \n",
       "  xxmaj xxunk where they tread , \n",
       "  xxmaj the random windows xxunk a street .\n",
       "y: LMLabelList\n",
       ",,,,\n",
       "Path: ../data;\n",
       "\n",
       "Test: None, model=SequentialRNN(\n",
       "  (0): AWD_LSTM(\n",
       "    (encoder): Embedding(17096, 400, padding_idx=1)\n",
       "    (encoder_dp): EmbeddingDropout(\n",
       "      (emb): Embedding(17096, 400, padding_idx=1)\n",
       "    )\n",
       "    (rnns): ModuleList(\n",
       "      (0): WeightDropout(\n",
       "        (module): LSTM(400, 1150, batch_first=True)\n",
       "      )\n",
       "      (1): WeightDropout(\n",
       "        (module): LSTM(1150, 1150, batch_first=True)\n",
       "      )\n",
       "      (2): WeightDropout(\n",
       "        (module): LSTM(1150, 400, batch_first=True)\n",
       "      )\n",
       "    )\n",
       "    (input_dp): RNNDropout()\n",
       "    (hidden_dps): ModuleList(\n",
       "      (0): RNNDropout()\n",
       "      (1): RNNDropout()\n",
       "      (2): RNNDropout()\n",
       "    )\n",
       "  )\n",
       "  (1): LinearDecoder(\n",
       "    (decoder): Linear(in_features=400, out_features=17096, bias=True)\n",
       "    (output_dp): RNNDropout()\n",
       "  )\n",
       "), opt_func=functools.partial(<class 'torch.optim.adam.Adam'>, betas=(0.9, 0.99)), loss_func=FlattenedLoss of CrossEntropyLoss(), metrics=[<function accuracy at 0x7fc2e2847048>], true_wd=True, bn_wd=True, wd=0.01, train_bn=True, path=PosixPath('../data'), model_dir='models', callback_fns=[functools.partial(<class 'fastai.basic_train.Recorder'>, add_time=True)], callbacks=[...], layer_groups=[Sequential(\n",
       "  (0): WeightDropout(\n",
       "    (module): LSTM(400, 1150, batch_first=True)\n",
       "  )\n",
       "  (1): RNNDropout()\n",
       "), Sequential(\n",
       "  (0): WeightDropout(\n",
       "    (module): LSTM(1150, 1150, batch_first=True)\n",
       "  )\n",
       "  (1): RNNDropout()\n",
       "), Sequential(\n",
       "  (0): WeightDropout(\n",
       "    (module): LSTM(1150, 400, batch_first=True)\n",
       "  )\n",
       "  (1): RNNDropout()\n",
       "), Sequential(\n",
       "  (0): Embedding(17096, 400, padding_idx=1)\n",
       "  (1): EmbeddingDropout(\n",
       "    (emb): Embedding(17096, 400, padding_idx=1)\n",
       "  )\n",
       "  (2): LinearDecoder(\n",
       "    (decoder): Linear(in_features=400, out_features=17096, bias=True)\n",
       "    (output_dp): RNNDropout()\n",
       "  )\n",
       ")], add_time=True)\n",
       "alpha: 2.0\n",
       "beta: 1.0], layer_groups=[Sequential(\n",
       "  (0): WeightDropout(\n",
       "    (module): LSTM(400, 1150, batch_first=True)\n",
       "  )\n",
       "  (1): RNNDropout()\n",
       "), Sequential(\n",
       "  (0): WeightDropout(\n",
       "    (module): LSTM(1150, 1150, batch_first=True)\n",
       "  )\n",
       "  (1): RNNDropout()\n",
       "), Sequential(\n",
       "  (0): WeightDropout(\n",
       "    (module): LSTM(1150, 400, batch_first=True)\n",
       "  )\n",
       "  (1): RNNDropout()\n",
       "), Sequential(\n",
       "  (0): Embedding(17096, 400, padding_idx=1)\n",
       "  (1): EmbeddingDropout(\n",
       "    (emb): Embedding(17096, 400, padding_idx=1)\n",
       "  )\n",
       "  (2): LinearDecoder(\n",
       "    (decoder): Linear(in_features=400, out_features=17096, bias=True)\n",
       "    (output_dp): RNNDropout()\n",
       "  )\n",
       ")], add_time=True)"
      ]
     },
     "execution_count": 8,
     "metadata": {},
     "output_type": "execute_result"
    }
   ],
   "source": [
    "learn = language_model_learner(data_lm, arch=AWD_LSTM)\n",
    "learn.load('poems_fine_tuned')"
   ]
  },
  {
   "cell_type": "code",
   "execution_count": 9,
   "metadata": {},
   "outputs": [
    {
     "data": {
      "text/plain": [
       "AWD_LSTM(\n",
       "  (encoder): Embedding(17096, 400, padding_idx=1)\n",
       "  (encoder_dp): EmbeddingDropout(\n",
       "    (emb): Embedding(17096, 400, padding_idx=1)\n",
       "  )\n",
       "  (rnns): ModuleList(\n",
       "    (0): WeightDropout(\n",
       "      (module): LSTM(400, 1150, batch_first=True)\n",
       "    )\n",
       "    (1): WeightDropout(\n",
       "      (module): LSTM(1150, 1150, batch_first=True)\n",
       "    )\n",
       "    (2): WeightDropout(\n",
       "      (module): LSTM(1150, 400, batch_first=True)\n",
       "    )\n",
       "  )\n",
       "  (input_dp): RNNDropout()\n",
       "  (hidden_dps): ModuleList(\n",
       "    (0): RNNDropout()\n",
       "    (1): RNNDropout()\n",
       "    (2): RNNDropout()\n",
       "  )\n",
       ")"
      ]
     },
     "execution_count": 9,
     "metadata": {},
     "output_type": "execute_result"
    }
   ],
   "source": [
    "encoder = deepcopy(learn.model[0])\n",
    "encoder"
   ]
  },
  {
   "cell_type": "code",
   "execution_count": 10,
   "metadata": {},
   "outputs": [
    {
     "data": {
      "text/plain": [
       "(torch.Size([64, 70]), torch.Size([64, 70]))"
      ]
     },
     "execution_count": 10,
     "metadata": {},
     "output_type": "execute_result"
    }
   ],
   "source": [
    "x, y = next(iter(trn_dl))\n",
    "x.size(), y.size()"
   ]
  },
  {
   "cell_type": "code",
   "execution_count": 11,
   "metadata": {},
   "outputs": [],
   "source": [
    "outs = encoder(x)"
   ]
  },
  {
   "cell_type": "code",
   "execution_count": 12,
   "metadata": {},
   "outputs": [
    {
     "data": {
      "text/plain": [
       "torch.Size([64, 70, 400])"
      ]
     },
     "execution_count": 12,
     "metadata": {},
     "output_type": "execute_result"
    }
   ],
   "source": [
    "outs[-1][-1].size()"
   ]
  },
  {
   "cell_type": "code",
   "execution_count": 13,
   "metadata": {},
   "outputs": [],
   "source": [
    "generator = deepcopy(learn.model) "
   ]
  },
  {
   "cell_type": "code",
   "execution_count": 14,
   "metadata": {},
   "outputs": [],
   "source": [
    "generator.load_state_dict(learn.model.state_dict())"
   ]
  },
  {
   "cell_type": "code",
   "execution_count": 17,
   "metadata": {},
   "outputs": [],
   "source": [
    "class TextDicriminator(nn.Module):\n",
    "    def __init__(self,encoder, nh, bn_final=True):\n",
    "        super().__init__()\n",
    "        #encoder\n",
    "        self.encoder = encoder\n",
    "        #classifier\n",
    "        layers = []\n",
    "        layers+=bn_drop_lin(nh*3,nh,bias=False)\n",
    "        layers += bn_drop_lin(nh,nh,p=0.25)\n",
    "        layers+=bn_drop_lin(nh,1,p=0.15,actn=nn.Sigmoid())\n",
    "        if bn_final: layers += [nn.BatchNorm1d(1)]\n",
    "        self.layers = nn.Sequential(*layers)\n",
    "    \n",
    "    def pool(self, x, bs, is_max):\n",
    "        f = F.adaptive_max_pool1d if is_max else F.adaptive_avg_pool1d\n",
    "        return f(x.permute(0,2,1), (1,)).view(bs,-1)\n",
    "    \n",
    "    def forward(self, inp,y=None):\n",
    "        raw_outputs, outputs = self.encoder(inp)\n",
    "        output = outputs[-1]\n",
    "        bs,sl,_ = output.size()\n",
    "        avgpool = self.pool(output, bs, False)\n",
    "        mxpool = self.pool(output, bs, True)\n",
    "        x = torch.cat([output[:,-1], mxpool, avgpool], 1)\n",
    "        out = self.layers(x)\n",
    "        return out"
   ]
  },
  {
   "cell_type": "code",
   "execution_count": 18,
   "metadata": {},
   "outputs": [],
   "source": [
    "disc = TextDicriminator(encoder,400).cuda()"
   ]
  },
  {
   "cell_type": "code",
   "execution_count": 19,
   "metadata": {},
   "outputs": [
    {
     "data": {
      "text/plain": [
       "torch.Size([64, 1])"
      ]
     },
     "execution_count": 19,
     "metadata": {},
     "output_type": "execute_result"
    }
   ],
   "source": [
    "out = disc(x)\n",
    "out.size()"
   ]
  },
  {
   "cell_type": "code",
   "execution_count": 20,
   "metadata": {},
   "outputs": [],
   "source": [
    "probs,raw_outputs, outputs = generator(x)"
   ]
  },
  {
   "cell_type": "code",
   "execution_count": 21,
   "metadata": {},
   "outputs": [
    {
     "data": {
      "text/plain": [
       "torch.Size([64, 70, 17096])"
      ]
     },
     "execution_count": 21,
     "metadata": {},
     "output_type": "execute_result"
    }
   ],
   "source": [
    "probs.size()"
   ]
  },
  {
   "cell_type": "code",
   "execution_count": 22,
   "metadata": {},
   "outputs": [],
   "source": [
    "optimizerD = optim.Adam(disc.parameters(), lr = 3e-4)\n",
    "optimizerG = optim.Adam(generator.parameters(), lr = 3e-3, betas=(0.7, 0.8))"
   ]
  },
  {
   "cell_type": "code",
   "execution_count": 20,
   "metadata": {},
   "outputs": [
    {
     "data": {
      "text/plain": [
       "torch.Size([10, 100])"
      ]
     },
     "execution_count": 20,
     "metadata": {},
     "output_type": "execute_result"
    }
   ],
   "source": [
    "samples = F.gumbel_softmax(torch.randn(10,100))\n",
    "samples.size()"
   ]
  },
  {
   "cell_type": "code",
   "execution_count": 21,
   "metadata": {},
   "outputs": [],
   "source": [
    "def stats(tensor):return torch.mean(tensor),torch.std(tensor)"
   ]
  },
  {
   "cell_type": "code",
   "execution_count": 22,
   "metadata": {},
   "outputs": [
    {
     "data": {
      "text/plain": [
       "(tensor(0.0100), tensor(0.0591))"
      ]
     },
     "execution_count": 22,
     "metadata": {},
     "output_type": "execute_result"
    }
   ],
   "source": [
    "stats(samples)"
   ]
  },
  {
   "cell_type": "code",
   "execution_count": 23,
   "metadata": {},
   "outputs": [
    {
     "data": {
      "text/plain": [
       "tensor([36, 62, 99, 19, 86, 31, 11, 51, 12, 77])"
      ]
     },
     "execution_count": 23,
     "metadata": {},
     "output_type": "execute_result"
    }
   ],
   "source": [
    "torch.multinomial(samples,1).squeeze(1)"
   ]
  },
  {
   "cell_type": "code",
   "execution_count": 23,
   "metadata": {},
   "outputs": [],
   "source": [
    "def seq_gumbel_softmax(input):\n",
    "    samples = []\n",
    "    bs,sl,nc = input.size()\n",
    "    for i in range(sl): \n",
    "        z = F.gumbel_softmax(input[:,i,:])\n",
    "        samples.append(torch.multinomial(z,1))\n",
    "    samples = torch.stack(samples).transpose(1,0).squeeze(2) \n",
    "    return samples"
   ]
  },
  {
   "cell_type": "code",
   "execution_count": 24,
   "metadata": {},
   "outputs": [],
   "source": [
    "from tqdm import tqdm"
   ]
  },
  {
   "cell_type": "code",
   "execution_count": 25,
   "metadata": {
    "scrolled": true
   },
   "outputs": [],
   "source": [
    "def train(gen, disc, epochs, trn_dl, val_dl, optimizerD, optimizerG, crit=None,first=True):\n",
    "    gen_iterations = 0\n",
    "    \n",
    "    for epoch in range(epochs):\n",
    "        gen.train(); disc.train()\n",
    "        n = len(trn_dl)\n",
    "        #train loop\n",
    "        with tqdm(total=n) as pbar:\n",
    "            for i, ds in enumerate(trn_dl):\n",
    "                x, y = ds\n",
    "                bs,sl = x.size()\n",
    "                disc.eval(), gen.train()\n",
    "                fake,_,_ = gen(x)\n",
    "                gen.zero_grad()\n",
    "                fake_sample =seq_gumbel_softmax(fake)\n",
    "                with torch.no_grad():\n",
    "                    gen_loss = reward = disc(fake_sample)\n",
    "                    if crit: gen_loss = crit(fake,fake_sample,reward.squeeze(1))\n",
    "                    gen_loss = gen_loss.mean()\n",
    "                gen_loss.requires_grad_(True)\n",
    "                gen_loss.backward()\n",
    "                optimizerG.step()\n",
    "                gen_iterations += 1\n",
    "                d_iters = 3\n",
    "                for j in range(d_iters):\n",
    "                    gen.eval()\n",
    "                    disc.train()\n",
    "                    with torch.no_grad():\n",
    "                        fake,_,_ = gen(x)\n",
    "                        fake_sample = seq_gumbel_softmax(fake)\n",
    "                    disc.zero_grad()\n",
    "                    fake_loss = disc(fake_sample)\n",
    "                    #fake_loss.requires_grad=True\n",
    "                    real_loss = disc(y.view(bs,sl))\n",
    "                    #real_loss.requires_grad=True\n",
    "                    disc_loss = (fake_loss-real_loss).mean(0)\n",
    "                    disc_loss.backward()\n",
    "                    optimizerD.step()\n",
    "                pbar.update()\n",
    "        print(f'Epoch {epoch}:')\n",
    "        print('Train Loss:')\n",
    "        print(f'Loss_D {disc_loss.data.item()}; Loss_G {gen_loss.data.item()} Ppx {torch.exp(lm_loss(fake,y))}')\n",
    "        print(f'D_real {real_loss.mean(0).view(1).data.item()}; Loss_D_fake {fake_loss.mean(0).view(1).data.item()}')\n",
    "        disc.eval(), gen.eval()\n",
    "        with tqdm(total=len(val_dl)) as pbar:\n",
    "            for i, ds in enumerate(val_dl):\n",
    "                with torch.no_grad():\n",
    "                    x, y = ds\n",
    "                    bs,sl = x.size()\n",
    "                    fake,_,_ = gen(x)\n",
    "                    fake_sample =seq_gumbel_softmax(fake)\n",
    "                    gen_loss = reward = disc(fake_sample)\n",
    "                    if crit: gen_loss = crit(fake,fake_sample,reward.squeeze(1))\n",
    "                    gen_loss = gen_loss.mean()\n",
    "                    fake_sample = seq_gumbel_softmax(fake)\n",
    "                    fake_loss = disc(fake_sample)\n",
    "                    real_loss = disc(y.view(bs,sl))\n",
    "                    disc_loss = (fake_loss-real_loss).mean(0)\n",
    "                pbar.update()\n",
    "        print('Valid Loss:')\n",
    "        print(f'Loss_D {disc_loss.data.item()}; Loss_G {gen_loss.data.item()} Ppx {torch.exp(lm_loss(fake,y))}')\n",
    "        print(f'D_real {real_loss.mean(0).view(1).data.item()}; Loss_D_fake {fake_loss.mean(0).view(1).data.item()}')"
   ]
  },
  {
   "cell_type": "code",
   "execution_count": 42,
   "metadata": {},
   "outputs": [],
   "source": [
    "#gen.load_state_dict(torch.load(PATH/'models/seq2seq_en.h5', map_location=lambda storage, loc: storage)) \n",
    "#disc.load_state_dict(torch.load(PATH/'models/disc_en.h5', map_location=lambda storage, loc: storage)) "
   ]
  },
  {
   "cell_type": "code",
   "execution_count": 26,
   "metadata": {},
   "outputs": [],
   "source": [
    "disc.train()\n",
    "generator.train();"
   ]
  },
  {
   "cell_type": "code",
   "execution_count": 27,
   "metadata": {
    "scrolled": true
   },
   "outputs": [
    {
     "name": "stderr",
     "output_type": "stream",
     "text": [
      "100%|██████████| 69/69 [01:06<00:00,  1.03it/s]\n",
      " 17%|█▋        | 1/6 [00:00<00:00,  5.33it/s]"
     ]
    },
    {
     "name": "stdout",
     "output_type": "stream",
     "text": [
      "Epoch 0:\n",
      "Train Loss:\n",
      "Loss_D -1.341104507446289e-07; Loss_G -0.086343914270401 Ppx 7.658246994018555\n",
      "D_real 1.6763806343078613e-07; Loss_D_fake 2.9802322387695312e-08\n"
     ]
    },
    {
     "name": "stderr",
     "output_type": "stream",
     "text": [
      "100%|██████████| 6/6 [00:01<00:00,  4.02it/s]\n",
      "  0%|          | 0/69 [00:00<?, ?it/s]"
     ]
    },
    {
     "name": "stdout",
     "output_type": "stream",
     "text": [
      "Valid Loss:\n",
      "Loss_D -0.013350073248147964; Loss_G -0.28069180250167847 Ppx 56.721004486083984\n",
      "D_real -0.23393051326274872; Loss_D_fake -0.24728058278560638\n"
     ]
    },
    {
     "name": "stderr",
     "output_type": "stream",
     "text": [
      "100%|██████████| 69/69 [01:07<00:00,  1.03it/s]\n",
      " 17%|█▋        | 1/6 [00:00<00:00,  5.35it/s]"
     ]
    },
    {
     "name": "stdout",
     "output_type": "stream",
     "text": [
      "Epoch 1:\n",
      "Train Loss:\n",
      "Loss_D 1.7043203115463257e-07; Loss_G -0.03880370408296585 Ppx 7.571606159210205\n",
      "D_real -2.2724270820617676e-07; Loss_D_fake -5.960464477539063e-08\n"
     ]
    },
    {
     "name": "stderr",
     "output_type": "stream",
     "text": [
      "100%|██████████| 6/6 [00:01<00:00,  4.02it/s]\n",
      "  0%|          | 0/69 [00:00<?, ?it/s]"
     ]
    },
    {
     "name": "stdout",
     "output_type": "stream",
     "text": [
      "Valid Loss:\n",
      "Loss_D 0.0012347488664090633; Loss_G -0.24660125374794006 Ppx 56.881778717041016\n",
      "D_real -0.2859431505203247; Loss_D_fake -0.2847083806991577\n"
     ]
    },
    {
     "name": "stderr",
     "output_type": "stream",
     "text": [
      "100%|██████████| 69/69 [01:07<00:00,  1.03it/s]\n",
      " 17%|█▋        | 1/6 [00:00<00:00,  5.35it/s]"
     ]
    },
    {
     "name": "stdout",
     "output_type": "stream",
     "text": [
      "Epoch 2:\n",
      "Train Loss:\n",
      "Loss_D -1.7881393432617188e-07; Loss_G 0.09737280756235123 Ppx 7.843847751617432\n",
      "D_real 2.2351741790771484e-07; Loss_D_fake 5.029141902923584e-08\n"
     ]
    },
    {
     "name": "stderr",
     "output_type": "stream",
     "text": [
      "100%|██████████| 6/6 [00:01<00:00,  4.02it/s]\n",
      "  0%|          | 0/69 [00:00<?, ?it/s]"
     ]
    },
    {
     "name": "stdout",
     "output_type": "stream",
     "text": [
      "Valid Loss:\n",
      "Loss_D 0.04497455060482025; Loss_G 0.16908785700798035 Ppx 57.84066390991211\n",
      "D_real 0.23502245545387268; Loss_D_fake 0.2799970209598541\n"
     ]
    },
    {
     "name": "stderr",
     "output_type": "stream",
     "text": [
      "100%|██████████| 69/69 [01:07<00:00,  1.03it/s]\n",
      " 17%|█▋        | 1/6 [00:00<00:00,  5.37it/s]"
     ]
    },
    {
     "name": "stdout",
     "output_type": "stream",
     "text": [
      "Epoch 3:\n",
      "Train Loss:\n",
      "Loss_D -3.6694109439849854e-07; Loss_G 0.07079493254423141 Ppx 8.204992294311523\n",
      "D_real 2.682209014892578e-07; Loss_D_fake -1.043081283569336e-07\n"
     ]
    },
    {
     "name": "stderr",
     "output_type": "stream",
     "text": [
      "100%|██████████| 6/6 [00:01<00:00,  4.01it/s]\n",
      "  0%|          | 0/69 [00:00<?, ?it/s]"
     ]
    },
    {
     "name": "stdout",
     "output_type": "stream",
     "text": [
      "Valid Loss:\n",
      "Loss_D -0.024879172444343567; Loss_G 0.2076968550682068 Ppx 57.07601547241211\n",
      "D_real 0.2681492567062378; Loss_D_fake 0.24327006936073303\n"
     ]
    },
    {
     "name": "stderr",
     "output_type": "stream",
     "text": [
      "100%|██████████| 69/69 [01:07<00:00,  1.03it/s]\n",
      " 17%|█▋        | 1/6 [00:00<00:00,  5.34it/s]"
     ]
    },
    {
     "name": "stdout",
     "output_type": "stream",
     "text": [
      "Epoch 4:\n",
      "Train Loss:\n",
      "Loss_D 2.123415470123291e-07; Loss_G 0.08917149156332016 Ppx 7.705118656158447\n",
      "D_real -3.948807716369629e-07; Loss_D_fake -1.9371509552001953e-07\n"
     ]
    },
    {
     "name": "stderr",
     "output_type": "stream",
     "text": [
      "100%|██████████| 6/6 [00:01<00:00,  4.02it/s]\n",
      "  0%|          | 0/69 [00:00<?, ?it/s]"
     ]
    },
    {
     "name": "stdout",
     "output_type": "stream",
     "text": [
      "Valid Loss:\n",
      "Loss_D 0.0038774628192186356; Loss_G 0.17146974802017212 Ppx 55.272804260253906\n",
      "D_real 0.21537131071090698; Loss_D_fake 0.21924875676631927\n"
     ]
    },
    {
     "name": "stderr",
     "output_type": "stream",
     "text": [
      "100%|██████████| 69/69 [01:07<00:00,  1.03it/s]\n",
      " 17%|█▋        | 1/6 [00:00<00:00,  5.35it/s]"
     ]
    },
    {
     "name": "stdout",
     "output_type": "stream",
     "text": [
      "Epoch 5:\n",
      "Train Loss:\n",
      "Loss_D -1.6391277313232422e-07; Loss_G 0.03497626259922981 Ppx 7.247567176818848\n",
      "D_real 8.568167686462402e-08; Loss_D_fake -7.82310962677002e-08\n"
     ]
    },
    {
     "name": "stderr",
     "output_type": "stream",
     "text": [
      "100%|██████████| 6/6 [00:01<00:00,  4.02it/s]"
     ]
    },
    {
     "name": "stdout",
     "output_type": "stream",
     "text": [
      "Valid Loss:\n",
      "Loss_D -0.025480497628450394; Loss_G 0.18148395419120789 Ppx 55.032745361328125\n",
      "D_real 0.251420795917511; Loss_D_fake 0.2259402871131897\n"
     ]
    },
    {
     "name": "stderr",
     "output_type": "stream",
     "text": [
      "\n"
     ]
    }
   ],
   "source": [
    "train(generator, disc, 6, trn_dl, val_dl, optimizerD, optimizerG, first=False)"
   ]
  },
  {
   "cell_type": "code",
   "execution_count": 28,
   "metadata": {},
   "outputs": [],
   "source": [
    "learn.model.load_state_dict(generator.state_dict())"
   ]
  },
  {
   "cell_type": "code",
   "execution_count": 29,
   "metadata": {},
   "outputs": [
    {
     "data": {
      "text/plain": [
       "\"O the bleeding drops of red throbbing \\n  There are some trampling feet allowed to reach \\n  The heads of steed - chariots makes goblet mist \\n  As though the departed ones ' bodies were wound . \\n  Who knows what that age may impart to those \\n  Who feel curious\""
      ]
     },
     "execution_count": 29,
     "metadata": {},
     "output_type": "execute_result"
    }
   ],
   "source": [
    "learn.predict(\"O the bleeding drops of red\",n_words=50)"
   ]
  },
  {
   "cell_type": "code",
   "execution_count": 30,
   "metadata": {},
   "outputs": [],
   "source": [
    "learn.save('poems_gan_gumbel')"
   ]
  },
  {
   "cell_type": "code",
   "execution_count": 32,
   "metadata": {},
   "outputs": [],
   "source": [
    "def reinforce_loss(input,sample,reward):\n",
    "    loss=0\n",
    "    bs,sl = sample.size()\n",
    "    for i in range(sl):\n",
    "        loss += -input[:,i,sample[:,i]] * reward\n",
    "    return loss/sl"
   ]
  },
  {
   "cell_type": "code",
   "execution_count": 33,
   "metadata": {},
   "outputs": [],
   "source": [
    "learn.load('poems_fine_tuned')\n",
    "encoder = deepcopy(learn.model[0])\n",
    "disc = TextDicriminator(encoder,400).cuda()\n",
    "generator = deepcopy(learn.model) "
   ]
  },
  {
   "cell_type": "code",
   "execution_count": 34,
   "metadata": {},
   "outputs": [],
   "source": [
    "optimizerD = optim.Adam(disc.parameters(), lr = 1e-4)\n",
    "optimizerG = optim.Adam(generator.parameters(), lr = 3e-3, betas=(0.7, 0.8))"
   ]
  },
  {
   "cell_type": "code",
   "execution_count": 35,
   "metadata": {},
   "outputs": [
    {
     "name": "stderr",
     "output_type": "stream",
     "text": [
      "100%|██████████| 69/69 [01:06<00:00,  1.03it/s]\n",
      " 17%|█▋        | 1/6 [00:00<00:00,  5.45it/s]"
     ]
    },
    {
     "name": "stdout",
     "output_type": "stream",
     "text": [
      "Epoch 0:\n",
      "Train Loss:\n",
      "Loss_D -6.50063157081604e-07; Loss_G 0.10009565949440002 Ppx 7.42289924621582\n",
      "D_real 5.21540641784668e-07; Loss_D_fake -1.2293457984924316e-07\n"
     ]
    },
    {
     "name": "stderr",
     "output_type": "stream",
     "text": [
      "100%|██████████| 6/6 [00:01<00:00,  4.10it/s]\n",
      "  0%|          | 0/69 [00:00<?, ?it/s]"
     ]
    },
    {
     "name": "stdout",
     "output_type": "stream",
     "text": [
      "Valid Loss:\n",
      "Loss_D -0.21008385717868805; Loss_G -2.8133182525634766 Ppx 53.0468864440918\n",
      "D_real -0.2947290241718292; Loss_D_fake -0.5048128366470337\n"
     ]
    },
    {
     "name": "stderr",
     "output_type": "stream",
     "text": [
      "100%|██████████| 69/69 [01:07<00:00,  1.03it/s]\n",
      " 17%|█▋        | 1/6 [00:00<00:00,  5.50it/s]"
     ]
    },
    {
     "name": "stdout",
     "output_type": "stream",
     "text": [
      "Epoch 1:\n",
      "Train Loss:\n",
      "Loss_D -1.9744038581848145e-07; Loss_G -0.6046543717384338 Ppx 7.8499321937561035\n",
      "D_real 6.07222318649292e-07; Loss_D_fake 4.0978193283081055e-07\n"
     ]
    },
    {
     "name": "stderr",
     "output_type": "stream",
     "text": [
      "100%|██████████| 6/6 [00:01<00:00,  4.10it/s]\n",
      "  0%|          | 0/69 [00:00<?, ?it/s]"
     ]
    },
    {
     "name": "stdout",
     "output_type": "stream",
     "text": [
      "Valid Loss:\n",
      "Loss_D -0.07184897363185883; Loss_G -0.6218725442886353 Ppx 52.736106872558594\n",
      "D_real -0.1615934669971466; Loss_D_fake -0.23344242572784424\n"
     ]
    },
    {
     "name": "stderr",
     "output_type": "stream",
     "text": [
      "100%|██████████| 69/69 [01:07<00:00,  1.03it/s]\n",
      " 17%|█▋        | 1/6 [00:00<00:00,  5.47it/s]"
     ]
    },
    {
     "name": "stdout",
     "output_type": "stream",
     "text": [
      "Epoch 2:\n",
      "Train Loss:\n",
      "Loss_D -7.82310962677002e-08; Loss_G -2.000972032546997 Ppx 8.486431121826172\n",
      "D_real -4.544854164123535e-07; Loss_D_fake -5.364418029785156e-07\n"
     ]
    },
    {
     "name": "stderr",
     "output_type": "stream",
     "text": [
      "100%|██████████| 6/6 [00:01<00:00,  4.07it/s]\n",
      "  0%|          | 0/69 [00:00<?, ?it/s]"
     ]
    },
    {
     "name": "stdout",
     "output_type": "stream",
     "text": [
      "Valid Loss:\n",
      "Loss_D -0.14020952582359314; Loss_G -1.3472065925598145 Ppx 51.095420837402344\n",
      "D_real -0.23206868767738342; Loss_D_fake -0.37227821350097656\n"
     ]
    },
    {
     "name": "stderr",
     "output_type": "stream",
     "text": [
      "100%|██████████| 69/69 [01:07<00:00,  1.03it/s]\n",
      " 17%|█▋        | 1/6 [00:00<00:00,  5.49it/s]"
     ]
    },
    {
     "name": "stdout",
     "output_type": "stream",
     "text": [
      "Epoch 3:\n",
      "Train Loss:\n",
      "Loss_D 2.1141022443771362e-07; Loss_G -0.8980365991592407 Ppx 8.2464017868042\n",
      "D_real -1.7508864402770996e-07; Loss_D_fake 3.725290298461914e-08\n"
     ]
    },
    {
     "name": "stderr",
     "output_type": "stream",
     "text": [
      "100%|██████████| 6/6 [00:01<00:00,  4.09it/s]\n",
      "  0%|          | 0/69 [00:00<?, ?it/s]"
     ]
    },
    {
     "name": "stdout",
     "output_type": "stream",
     "text": [
      "Valid Loss:\n",
      "Loss_D -0.12584710121154785; Loss_G -1.3681776523590088 Ppx 51.840694427490234\n",
      "D_real -0.26572832465171814; Loss_D_fake -0.3915754556655884\n"
     ]
    },
    {
     "name": "stderr",
     "output_type": "stream",
     "text": [
      "100%|██████████| 69/69 [01:07<00:00,  1.03it/s]\n",
      " 17%|█▋        | 1/6 [00:00<00:00,  5.43it/s]"
     ]
    },
    {
     "name": "stdout",
     "output_type": "stream",
     "text": [
      "Epoch 4:\n",
      "Train Loss:\n",
      "Loss_D 2.523884177207947e-07; Loss_G -1.5117201805114746 Ppx 8.406465530395508\n",
      "D_real -3.3527612686157227e-08; Loss_D_fake 2.1420419216156006e-07\n"
     ]
    },
    {
     "name": "stderr",
     "output_type": "stream",
     "text": [
      "100%|██████████| 6/6 [00:01<00:00,  4.08it/s]\n",
      "  0%|          | 0/69 [00:00<?, ?it/s]"
     ]
    },
    {
     "name": "stdout",
     "output_type": "stream",
     "text": [
      "Valid Loss:\n",
      "Loss_D -0.0779573991894722; Loss_G -1.1873434782028198 Ppx 55.788875579833984\n",
      "D_real -0.23494872450828552; Loss_D_fake -0.3129061460494995\n"
     ]
    },
    {
     "name": "stderr",
     "output_type": "stream",
     "text": [
      "100%|██████████| 69/69 [01:07<00:00,  1.03it/s]\n",
      " 17%|█▋        | 1/6 [00:00<00:00,  5.44it/s]"
     ]
    },
    {
     "name": "stdout",
     "output_type": "stream",
     "text": [
      "Epoch 5:\n",
      "Train Loss:\n",
      "Loss_D 6.705522537231445e-07; Loss_G -1.3681237697601318 Ppx 8.54354476928711\n",
      "D_real -3.296881914138794e-07; Loss_D_fake 3.427267074584961e-07\n"
     ]
    },
    {
     "name": "stderr",
     "output_type": "stream",
     "text": [
      "100%|██████████| 6/6 [00:01<00:00,  4.07it/s]"
     ]
    },
    {
     "name": "stdout",
     "output_type": "stream",
     "text": [
      "Valid Loss:\n",
      "Loss_D -0.04955030605196953; Loss_G -1.7284224033355713 Ppx 58.09437942504883\n",
      "D_real -0.3295239806175232; Loss_D_fake -0.3790743052959442\n"
     ]
    },
    {
     "name": "stderr",
     "output_type": "stream",
     "text": [
      "\n"
     ]
    }
   ],
   "source": [
    "train(generator, disc, 6, trn_dl, val_dl, optimizerD, optimizerG, crit=reinforce_loss,first=False)"
   ]
  },
  {
   "cell_type": "code",
   "execution_count": 36,
   "metadata": {},
   "outputs": [],
   "source": [
    "learn.model.load_state_dict(generator.state_dict())"
   ]
  },
  {
   "cell_type": "code",
   "execution_count": 37,
   "metadata": {},
   "outputs": [
    {
     "data": {
      "text/plain": [
       "'O the bleeding drops of red \\n  discoloured plant dead \\n  are fallen over this river day and day \\n  All day long their thin eyelids \\n  droop and never flow . \\n \\n \\n  Reflected upon the image \\n  Walnut trees ; \\n  Stroking their tender hands \\n  With shut eyelids .'"
      ]
     },
     "execution_count": 37,
     "metadata": {},
     "output_type": "execute_result"
    }
   ],
   "source": [
    "learn.predict(\"O the bleeding drops of red\",n_words=50)"
   ]
  },
  {
   "cell_type": "code",
   "execution_count": 38,
   "metadata": {},
   "outputs": [],
   "source": [
    "learn.save('poems_gan_reinforce')"
   ]
  },
  {
   "cell_type": "code",
   "execution_count": null,
   "metadata": {},
   "outputs": [],
   "source": []
  }
 ],
 "metadata": {
  "kernelspec": {
   "display_name": "Python 3",
   "language": "python",
   "name": "python3"
  },
  "language_info": {
   "codemirror_mode": {
    "name": "ipython",
    "version": 3
   },
   "file_extension": ".py",
   "mimetype": "text/x-python",
   "name": "python",
   "nbconvert_exporter": "python",
   "pygments_lexer": "ipython3",
   "version": "3.6.3"
  }
 },
 "nbformat": 4,
 "nbformat_minor": 2
}
