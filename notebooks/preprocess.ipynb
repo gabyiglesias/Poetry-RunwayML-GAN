{
 "cells": [
  {
   "cell_type": "code",
   "execution_count": 1,
   "metadata": {},
   "outputs": [],
   "source": [
    "%reload_ext autoreload\n",
    "%autoreload 2\n",
    "%matplotlib inline"
   ]
  },
  {
   "cell_type": "code",
   "execution_count": 2,
   "metadata": {},
   "outputs": [],
   "source": [
    "#export\n",
    "from fastai import *\n",
    "from fastai.text import *"
   ]
  },
  {
   "cell_type": "code",
   "execution_count": 15,
   "metadata": {},
   "outputs": [],
   "source": [
    "#export\n",
    "path = Path('../data')"
   ]
  },
  {
   "cell_type": "code",
   "execution_count": 21,
   "metadata": {},
   "outputs": [],
   "source": [
    "#export\n",
    "def preprocess(data,bs=64):\n",
    "    if data == 'gutenberg':\n",
    "        data_lm = (TextList.from_folder(path/'gutenberg',extensions=\".txt\",recurse=False)\n",
    "                    .split_by_rand_pct(0.1)\n",
    "                    .label_for_lm()\n",
    "                    .databunch(bs=bs))\n",
    "        data_lm.save('gutenberg_tmp')\n",
    "    elif data == 'lyrics':\n",
    "        df = pd.read_json(path/'lyrics.json',lines=True)\n",
    "        df['text'] = df['text'].astype('str')\n",
    "        data_lm = (TextList.from_df(df,cols='text',path=path)\n",
    "                   .random_split_by_pct(0.1)\n",
    "                   .label_for_lm()\n",
    "                   .databunch(bs=bs))\n",
    "        data_lm.save('tmp_lyrics')\n",
    "    elif data == 'poems':\n",
    "        poems = (path/'poems.txt').open().read().split('\\n\\n\\n\\n\\n\\n\\n')\n",
    "        poems_df = pd.DataFrame(poems)\n",
    "        tokenizer = Tokenizer(SpacyTokenizer, 'en')\n",
    "        processor = [TokenizeProcessor(tokenizer=tokenizer), NumericalizeProcessor(min_freq=1,max_vocab=60000)]\n",
    "        data_lm = (TextList.from_df(poems_df,path,cols=0,processor=processor)\n",
    "                    .split_by_rand_pct(0.1)\n",
    "                    .label_for_lm()           \n",
    "                    .databunch(bs=bs))\n",
    "        data_lm.save('poems_tmp')\n",
    "    elif data == 'metaphors':\n",
    "        df = pd.read_csv(path/'metaphors.csv')\n",
    "        df['metaphor'] = df['metaphor'].astype('str')\n",
    "        metaphors = list(df['metaphor'])\n",
    "        cleaned_metaphors = []\n",
    "        for metaphor in metaphors:\n",
    "            metaphor = metaphor.replace('/ ','').replace('\"','').replace(\"'\",\"\").replace('<i> ','').replace(' </i>',\"\")\n",
    "            cleaned_metaphors.append(metaphor)\n",
    "        df_met = pd.DataFrame(cleaned_metaphors)\n",
    "        tokenizer = Tokenizer(SpacyTokenizer, 'en')\n",
    "        processor = [TokenizeProcessor(tokenizer=tokenizer), NumericalizeProcessor(min_freq=1,max_vocab=50000)]\n",
    "        data_lm = (TextList.from_df(df_met,cols=0,path=path,processor=processor)\n",
    "                           .random_split_by_pct(0.1)\n",
    "                           .label_for_lm()\n",
    "                           .databunch(bs=bs))\n",
    "        data_lm.save('tmp_metaphors')\n",
    "    else: print(f'data {data} not supported')"
   ]
  },
  {
   "cell_type": "code",
   "execution_count": 22,
   "metadata": {},
   "outputs": [
    {
     "name": "stdout",
     "output_type": "stream",
     "text": [
      "Converted preprocess.ipynb to exp/nb_preprocess.py\r\n"
     ]
    }
   ],
   "source": [
    "!/home/ubuntu/projects/creativity-model-zoo/notebooks/notebook2script.py preprocess.ipynb"
   ]
  },
  {
   "cell_type": "code",
   "execution_count": null,
   "metadata": {},
   "outputs": [],
   "source": []
  }
 ],
 "metadata": {
  "kernelspec": {
   "display_name": "Python 3",
   "language": "python",
   "name": "python3"
  },
  "language_info": {
   "codemirror_mode": {
    "name": "ipython",
    "version": 3
   },
   "file_extension": ".py",
   "mimetype": "text/x-python",
   "name": "python",
   "nbconvert_exporter": "python",
   "pygments_lexer": "ipython3",
   "version": "3.6.7"
  }
 },
 "nbformat": 4,
 "nbformat_minor": 2
}
