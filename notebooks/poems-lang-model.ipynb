{
 "cells": [
  {
   "cell_type": "markdown",
   "metadata": {},
   "source": [
    "# IMDB"
   ]
  },
  {
   "cell_type": "code",
   "execution_count": 1,
   "metadata": {},
   "outputs": [],
   "source": [
    "%reload_ext autoreload\n",
    "%autoreload 2\n",
    "%matplotlib inline"
   ]
  },
  {
   "cell_type": "code",
   "execution_count": 2,
   "metadata": {},
   "outputs": [],
   "source": [
    "from fastai import *\n",
    "from fastai.text import *"
   ]
  },
  {
   "cell_type": "markdown",
   "metadata": {},
   "source": [
    "## Preparing the data"
   ]
  },
  {
   "cell_type": "code",
   "execution_count": 3,
   "metadata": {},
   "outputs": [],
   "source": [
    "path = Path('../data/')"
   ]
  },
  {
   "cell_type": "code",
   "execution_count": 9,
   "metadata": {},
   "outputs": [
    {
     "data": {
      "text/html": [
       "<div>\n",
       "<style scoped>\n",
       "    .dataframe tbody tr th:only-of-type {\n",
       "        vertical-align: middle;\n",
       "    }\n",
       "\n",
       "    .dataframe tbody tr th {\n",
       "        vertical-align: top;\n",
       "    }\n",
       "\n",
       "    .dataframe thead th {\n",
       "        text-align: right;\n",
       "    }\n",
       "</style>\n",
       "<table border=\"1\" class=\"dataframe\">\n",
       "  <thead>\n",
       "    <tr style=\"text-align: right;\">\n",
       "      <th></th>\n",
       "      <th>0</th>\n",
       "    </tr>\n",
       "  </thead>\n",
       "  <tbody>\n",
       "    <tr>\n",
       "      <th>0</th>\n",
       "      <td>O Captain! my Captain! our fearful trip is don...</td>\n",
       "    </tr>\n",
       "    <tr>\n",
       "      <th>1</th>\n",
       "      <td>This is thy hour O Soul, thy free flight into ...</td>\n",
       "    </tr>\n",
       "    <tr>\n",
       "      <th>2</th>\n",
       "      <td>This is thy hour O Soul, thy free flight into ...</td>\n",
       "    </tr>\n",
       "    <tr>\n",
       "      <th>3</th>\n",
       "      <td>A noiseless, patient spider,\\nI mark’d, where,...</td>\n",
       "    </tr>\n",
       "    <tr>\n",
       "      <th>4</th>\n",
       "      <td>A glimpse, through an interstice caught,\\nOf a...</td>\n",
       "    </tr>\n",
       "  </tbody>\n",
       "</table>\n",
       "</div>"
      ],
      "text/plain": [
       "                                                   0\n",
       "0  O Captain! my Captain! our fearful trip is don...\n",
       "1  This is thy hour O Soul, thy free flight into ...\n",
       "2  This is thy hour O Soul, thy free flight into ...\n",
       "3  A noiseless, patient spider,\\nI mark’d, where,...\n",
       "4  A glimpse, through an interstice caught,\\nOf a..."
      ]
     },
     "execution_count": 9,
     "metadata": {},
     "output_type": "execute_result"
    }
   ],
   "source": [
    "poems = (path/'poems.txt').open().read().split('\\n\\n\\n\\n\\n\\n\\n')\n",
    "poems_df = pd.DataFrame(poems)\n",
    "poems_df.head()"
   ]
  },
  {
   "cell_type": "code",
   "execution_count": 13,
   "metadata": {},
   "outputs": [
    {
     "data": {
      "text/plain": [
       "('This is thy hour O Soul, thy free flight into the wordless,\\nAway from books, away from art, the day erased, the lesson done,\\nThee fully forth emerging, silent, gazing, pondering the themes thou\\nlovest best.\\nNight, sleep, death and the stars.',\n",
       " \"O Captain! my Captain! our fearful trip is done;\\nThe ship has weather'd every rack, the prize we sought is won;\\nThe port is near, the bells I hear, the people all exulting,\\nWhile follow eyes the steady keel, the vessel grim and daring:\\nBut O heart! heart! heart!\\nO the bleeding drops of red,\\nWhere on the deck my Captain lies,\\nFallen cold and dead.\\n\\nO Captain! my Captain! rise up and hear the bells;\\nRise up--for you the flag is flung--for you the bugle trills; 10\\nFor you bouquets and ribbon'd wreaths--for you the shores a-crowding;\\nFor you they call, the swaying mass, their eager faces turning;\\nHere Captain! dear father!\\nThis arm beneath your head;\\nIt is some dream that on the deck,\\nYou've fallen cold and dead.\\n\\nMy Captain does not answer, his lips are pale and still;\\nMy father does not feel my arm, he has no pulse nor will;\\nThe ship is anchor'd safe and sound, its voyage closed and done;\\nFrom fearful trip, the victor ship, comes in with object won; 20\\nExult, O shores, and ring, O bells!\\nBut I, with mournful tread,\\nWalk the deck my Captain lies,\\nFallen cold and dead.\")"
      ]
     },
     "execution_count": 13,
     "metadata": {},
     "output_type": "execute_result"
    }
   ],
   "source": [
    "poems_df.iloc[1][0],poems_df.iloc[0][0]"
   ]
  },
  {
   "cell_type": "code",
   "execution_count": 15,
   "metadata": {},
   "outputs": [],
   "source": [
    "bs=48"
   ]
  },
  {
   "cell_type": "code",
   "execution_count": 18,
   "metadata": {},
   "outputs": [],
   "source": [
    "tokenizer = Tokenizer(SpacyTokenizer, 'en')\n",
    "processor = [TokenizeProcessor(tokenizer=tokenizer), NumericalizeProcessor(min_freq=1,max_vocab=60000)]\n",
    "data_lm = (TextList.from_df(poems_df,path,cols=0,processor=processor)\n",
    "            .split_by_rand_pct(0.1)\n",
    "            .label_for_lm()           \n",
    "            .databunch(bs=bs))"
   ]
  },
  {
   "cell_type": "code",
   "execution_count": 19,
   "metadata": {},
   "outputs": [
    {
     "data": {
      "text/html": [
       "<table border=\"1\" class=\"dataframe\">\n",
       "  <thead>\n",
       "    <tr style=\"text-align: right;\">\n",
       "      <th>idx</th>\n",
       "      <th>text</th>\n",
       "    </tr>\n",
       "  </thead>\n",
       "  <tbody>\n",
       "    <tr>\n",
       "      <td>0</td>\n",
       "      <td>! heart ! \\n  o the bleeding drops of red , \\n  xxmaj where on the deck my xxmaj captain lies , \\n  xxmaj fallen cold and dead . \\n \\n  o xxmaj captain ! my xxmaj captain ! rise up and hear the bells ; \\n  xxmaj rise up -- for you the flag is flung -- for you the bugle trills ; 10</td>\n",
       "    </tr>\n",
       "    <tr>\n",
       "      <td>1</td>\n",
       "      <td>answer could be found . \\n  xxmaj till suddenly one wondrous night . \\n  xxmaj all in a flash he saw the light . \\n  xxmaj he jumped up like a ballet dancer \\n  xxmaj and yelled , \" xxmaj by gum , i 've got the answer ! \" \\n  \" xxmaj they want my bacon slice by slice \\n  \" xxmaj to</td>\n",
       "    </tr>\n",
       "    <tr>\n",
       "      <td>2</td>\n",
       "      <td>in the centre of your room , \\n  house , half - acre , square mile , island , country , \\n  knowing at last how you got there , \\n  and say , i own this , \\n \\n \\n  is the same moment when the trees unloose \\n  their soft arms from around you , \\n  the birds take back their language</td>\n",
       "    </tr>\n",
       "    <tr>\n",
       "      <td>3</td>\n",
       "      <td>xxmaj not everything that can be counted counts , \\n  and not everything that counts can be counted . \\n \\n \\n  xxmaj only one who devotes himself \\n  to a cause \\n  with his whole strength and soul \\n  can be a true master . \\n  xxmaj for this reason mastery \\n  demands all of a person . \\n \\n \\n</td>\n",
       "    </tr>\n",
       "    <tr>\n",
       "      <td>4</td>\n",
       "      <td>\\n  xxmaj blown on the dank , unwholesome breeze , \\n  xxmaj awoke the never ending sneeze . \\n \\n \\n  xxmaj strange pictures decked the arras drear , \\n  xxmaj strange characters of woe and fear , \\n  xxmaj the humbugs of the social sphere . \\n \\n \\n  xxmaj one showed a vain and noisy prig , \\n  xxmaj that shouted</td>\n",
       "    </tr>\n",
       "  </tbody>\n",
       "</table>"
      ],
      "text/plain": [
       "<IPython.core.display.HTML object>"
      ]
     },
     "metadata": {},
     "output_type": "display_data"
    }
   ],
   "source": [
    "data_lm.show_batch()"
   ]
  },
  {
   "cell_type": "code",
   "execution_count": 20,
   "metadata": {},
   "outputs": [],
   "source": [
    "data_lm.save('poems_tmp')"
   ]
  },
  {
   "cell_type": "markdown",
   "metadata": {},
   "source": [
    "## Language model"
   ]
  },
  {
   "cell_type": "code",
   "execution_count": 8,
   "metadata": {},
   "outputs": [],
   "source": [
    "defaults.device = 'cpu'"
   ]
  },
  {
   "cell_type": "code",
   "execution_count": 21,
   "metadata": {},
   "outputs": [],
   "source": [
    "data_lm = load_data(path, 'poems_tmp', bs=bs)"
   ]
  },
  {
   "cell_type": "code",
   "execution_count": 22,
   "metadata": {},
   "outputs": [
    {
     "data": {
      "text/html": [
       "<table border=\"1\" class=\"dataframe\">\n",
       "  <thead>\n",
       "    <tr style=\"text-align: right;\">\n",
       "      <th>idx</th>\n",
       "      <th>text</th>\n",
       "    </tr>\n",
       "  </thead>\n",
       "  <tbody>\n",
       "    <tr>\n",
       "      <td>0</td>\n",
       "      <td>! heart ! \\n  o the bleeding drops of red , \\n  xxmaj where on the deck my xxmaj captain lies , \\n  xxmaj fallen cold and dead . \\n \\n  o xxmaj captain ! my xxmaj captain ! rise up and hear the bells ; \\n  xxmaj rise up -- for you the flag is flung -- for you the bugle trills ; 10</td>\n",
       "    </tr>\n",
       "    <tr>\n",
       "      <td>1</td>\n",
       "      <td>answer could be found . \\n  xxmaj till suddenly one wondrous night . \\n  xxmaj all in a flash he saw the light . \\n  xxmaj he jumped up like a ballet dancer \\n  xxmaj and yelled , \" xxmaj by gum , i 've got the answer ! \" \\n  \" xxmaj they want my bacon slice by slice \\n  \" xxmaj to</td>\n",
       "    </tr>\n",
       "    <tr>\n",
       "      <td>2</td>\n",
       "      <td>in the centre of your room , \\n  house , half - acre , square mile , island , country , \\n  knowing at last how you got there , \\n  and say , i own this , \\n \\n \\n  is the same moment when the trees unloose \\n  their soft arms from around you , \\n  the birds take back their language</td>\n",
       "    </tr>\n",
       "    <tr>\n",
       "      <td>3</td>\n",
       "      <td>xxmaj not everything that can be counted counts , \\n  and not everything that counts can be counted . \\n \\n \\n  xxmaj only one who devotes himself \\n  to a cause \\n  with his whole strength and soul \\n  can be a true master . \\n  xxmaj for this reason mastery \\n  demands all of a person . \\n \\n \\n</td>\n",
       "    </tr>\n",
       "    <tr>\n",
       "      <td>4</td>\n",
       "      <td>\\n  xxmaj blown on the dank , unwholesome breeze , \\n  xxmaj awoke the never ending sneeze . \\n \\n \\n  xxmaj strange pictures decked the arras drear , \\n  xxmaj strange characters of woe and fear , \\n  xxmaj the humbugs of the social sphere . \\n \\n \\n  xxmaj one showed a vain and noisy prig , \\n  xxmaj that shouted</td>\n",
       "    </tr>\n",
       "  </tbody>\n",
       "</table>"
      ],
      "text/plain": [
       "<IPython.core.display.HTML object>"
      ]
     },
     "metadata": {},
     "output_type": "display_data"
    }
   ],
   "source": [
    "data_lm.show_batch()"
   ]
  },
  {
   "cell_type": "code",
   "execution_count": 23,
   "metadata": {},
   "outputs": [],
   "source": [
    "#learn = language_model_learner(data_lm, pretrained_model=URLs.WT103_1, drop_mult=0.3)\n",
    "learn = language_model_learner(data_lm, arch=AWD_LSTM,pretrained_fnames=['gbergsubset_fine_tuned','gutenberg_itos'], drop_mult=0.3)"
   ]
  },
  {
   "cell_type": "code",
   "execution_count": 14,
   "metadata": {},
   "outputs": [
    {
     "data": {
      "text/html": [],
      "text/plain": [
       "<IPython.core.display.HTML object>"
      ]
     },
     "metadata": {},
     "output_type": "display_data"
    },
    {
     "name": "stdout",
     "output_type": "stream",
     "text": [
      "LR Finder is complete, type {learner_name}.recorder.plot() to see the graph.\n"
     ]
    }
   ],
   "source": [
    "learn.lr_find()"
   ]
  },
  {
   "cell_type": "code",
   "execution_count": 15,
   "metadata": {},
   "outputs": [
    {
     "data": {
      "image/png": "[encoded data removed]",
      "text/plain": [
       "<Figure size 432x288 with 1 Axes>"
      ]
     },
     "metadata": {
      "needs_background": "light"
     },
     "output_type": "display_data"
    }
   ],
   "source": [
    "learn.recorder.plot(skip_end=15)"
   ]
  },
  {
   "cell_type": "code",
   "execution_count": 24,
   "metadata": {},
   "outputs": [
    {
     "data": {
      "text/html": [
       "Total time: 00:09 <p><table border=\"1\" class=\"dataframe\">\n",
       "  <thead>\n",
       "    <tr style=\"text-align: left;\">\n",
       "      <th>epoch</th>\n",
       "      <th>train_loss</th>\n",
       "      <th>valid_loss</th>\n",
       "      <th>accuracy</th>\n",
       "      <th>time</th>\n",
       "    </tr>\n",
       "  </thead>\n",
       "  <tbody>\n",
       "    <tr>\n",
       "      <td>0</td>\n",
       "      <td>4.519135</td>\n",
       "      <td>4.012022</td>\n",
       "      <td>0.312314</td>\n",
       "      <td>00:09</td>\n",
       "    </tr>\n",
       "  </tbody>\n",
       "</table>"
      ],
      "text/plain": [
       "<IPython.core.display.HTML object>"
      ]
     },
     "metadata": {},
     "output_type": "display_data"
    }
   ],
   "source": [
    "learn.fit_one_cycle(1, 1e-2, moms=(0.8,0.7))"
   ]
  },
  {
   "cell_type": "code",
   "execution_count": 25,
   "metadata": {},
   "outputs": [],
   "source": [
    "learn.save('poems_fit_head')"
   ]
  },
  {
   "cell_type": "code",
   "execution_count": 20,
   "metadata": {},
   "outputs": [],
   "source": [
    "learn.load('poems_fit_head');"
   ]
  },
  {
   "cell_type": "markdown",
   "metadata": {},
   "source": [
    "To complete the fine-tuning, we can then unfeeze and launch a new training."
   ]
  },
  {
   "cell_type": "code",
   "execution_count": 26,
   "metadata": {},
   "outputs": [],
   "source": [
    "learn.unfreeze()"
   ]
  },
  {
   "cell_type": "code",
   "execution_count": 27,
   "metadata": {},
   "outputs": [
    {
     "data": {
      "text/html": [
       "Total time: 01:54 <p><table border=\"1\" class=\"dataframe\">\n",
       "  <thead>\n",
       "    <tr style=\"text-align: left;\">\n",
       "      <th>epoch</th>\n",
       "      <th>train_loss</th>\n",
       "      <th>valid_loss</th>\n",
       "      <th>accuracy</th>\n",
       "      <th>time</th>\n",
       "    </tr>\n",
       "  </thead>\n",
       "  <tbody>\n",
       "    <tr>\n",
       "      <td>0</td>\n",
       "      <td>3.991382</td>\n",
       "      <td>3.954212</td>\n",
       "      <td>0.316890</td>\n",
       "      <td>00:11</td>\n",
       "    </tr>\n",
       "    <tr>\n",
       "      <td>1</td>\n",
       "      <td>3.939799</td>\n",
       "      <td>3.942488</td>\n",
       "      <td>0.318750</td>\n",
       "      <td>00:11</td>\n",
       "    </tr>\n",
       "    <tr>\n",
       "      <td>2</td>\n",
       "      <td>3.689169</td>\n",
       "      <td>3.930336</td>\n",
       "      <td>0.324442</td>\n",
       "      <td>00:11</td>\n",
       "    </tr>\n",
       "    <tr>\n",
       "      <td>3</td>\n",
       "      <td>3.467126</td>\n",
       "      <td>3.950777</td>\n",
       "      <td>0.330729</td>\n",
       "      <td>00:11</td>\n",
       "    </tr>\n",
       "    <tr>\n",
       "      <td>4</td>\n",
       "      <td>3.048700</td>\n",
       "      <td>3.926446</td>\n",
       "      <td>0.338393</td>\n",
       "      <td>00:11</td>\n",
       "    </tr>\n",
       "    <tr>\n",
       "      <td>5</td>\n",
       "      <td>2.762334</td>\n",
       "      <td>3.979816</td>\n",
       "      <td>0.341741</td>\n",
       "      <td>00:11</td>\n",
       "    </tr>\n",
       "    <tr>\n",
       "      <td>6</td>\n",
       "      <td>2.494223</td>\n",
       "      <td>4.026433</td>\n",
       "      <td>0.344159</td>\n",
       "      <td>00:11</td>\n",
       "    </tr>\n",
       "    <tr>\n",
       "      <td>7</td>\n",
       "      <td>2.299362</td>\n",
       "      <td>4.077821</td>\n",
       "      <td>0.345573</td>\n",
       "      <td>00:11</td>\n",
       "    </tr>\n",
       "    <tr>\n",
       "      <td>8</td>\n",
       "      <td>2.231355</td>\n",
       "      <td>4.090702</td>\n",
       "      <td>0.346019</td>\n",
       "      <td>00:11</td>\n",
       "    </tr>\n",
       "    <tr>\n",
       "      <td>9</td>\n",
       "      <td>2.131160</td>\n",
       "      <td>4.093945</td>\n",
       "      <td>0.346094</td>\n",
       "      <td>00:11</td>\n",
       "    </tr>\n",
       "  </tbody>\n",
       "</table>"
      ],
      "text/plain": [
       "<IPython.core.display.HTML object>"
      ]
     },
     "metadata": {},
     "output_type": "display_data"
    }
   ],
   "source": [
    "learn.fit_one_cycle(10, 1e-3, moms=(0.8,0.7))"
   ]
  },
  {
   "cell_type": "code",
   "execution_count": 63,
   "metadata": {},
   "outputs": [
    {
     "data": {
      "text/plain": [
       "44.89448685430502"
      ]
     },
     "execution_count": 63,
     "metadata": {},
     "output_type": "execute_result"
    }
   ],
   "source": [
    "math.exp(3.804315)"
   ]
  },
  {
   "cell_type": "code",
   "execution_count": 28,
   "metadata": {},
   "outputs": [],
   "source": [
    "learn.save('poems_fine_tuned')"
   ]
  },
  {
   "cell_type": "markdown",
   "metadata": {},
   "source": [
    "How good is our model? Well let's try to see what it predicts after a few given words."
   ]
  },
  {
   "cell_type": "code",
   "execution_count": 12,
   "metadata": {},
   "outputs": [],
   "source": [
    "learn.load('poems_fine_tuned');"
   ]
  },
  {
   "cell_type": "code",
   "execution_count": 41,
   "metadata": {},
   "outputs": [],
   "source": [
    "TEXT = \"O captain my captain\"\n",
    "N_WORDS = 100\n",
    "N_SENTENCES = 1"
   ]
  },
  {
   "cell_type": "code",
   "execution_count": 25,
   "metadata": {},
   "outputs": [],
   "source": [
    "learn.predi"
   ]
  },
  {
   "cell_type": "code",
   "execution_count": 32,
   "metadata": {},
   "outputs": [],
   "source": [
    "b = data_lm.valid_ds.x.get(0)"
   ]
  },
  {
   "cell_type": "code",
   "execution_count": 14,
   "metadata": {},
   "outputs": [],
   "source": [
    "valid_text = []\n",
    "for i in range(len(data_lm.valid_ds)):\n",
    "    valid_text.append(data_lm.valid_ds.x.get(i).text)"
   ]
  },
  {
   "cell_type": "code",
   "execution_count": 10,
   "metadata": {},
   "outputs": [
    {
     "data": {
      "text/plain": [
       "\"xxbos xxmaj the very spirit of summer breathes to - day , \\n xxmaj here where i sun me in a dreamy mood , \\n xxmaj and laps the sultry xxunk , and seems to brood \\n xxmaj tenderly o'er those xxunk hills far away . \\n xxmaj the air is fragrant with the new - xxunk hay , \\n xxmaj and xxunk with hum of myriad flies pursued \\n xxmaj by xxunk xxunk . xxmaj all yon xxunk wood \\n xxmaj is drowned in sunshine till its green looks grey . \\n xxmaj no xxunk of cloud is in the still blue sky , \\n xxmaj xxunk with heat , from which the xxunk trees \\n xxmaj stand out -- each leaf cut sharp . xxmaj the xxunk scythe \\n xxmaj makes xxunk music for me as i lie , \\n xxmaj watching the xxunk of the children xxunk , \\n xxmaj drinking the season 's sweetness to the xxunk .\""
      ]
     },
     "execution_count": 10,
     "metadata": {},
     "output_type": "execute_result"
    }
   ],
   "source": [
    "valid_text[1]"
   ]
  },
  {
   "cell_type": "code",
   "execution_count": 50,
   "metadata": {},
   "outputs": [
    {
     "data": {
      "text/plain": [
       "748"
      ]
     },
     "execution_count": 50,
     "metadata": {},
     "output_type": "execute_result"
    }
   ],
   "source": [
    "len(text)"
   ]
  },
  {
   "cell_type": "code",
   "execution_count": 15,
   "metadata": {},
   "outputs": [
    {
     "data": {
      "text/plain": [
       "[\"xxbos xxmaj the very spirit of summer breathes to - day , \\n xxmaj here where i sun me in a dreamy mood , \\n xxmaj and laps the sultry xxunk , and seems to brood \\n xxmaj tenderly o'er those xxunk hills far away . \\n xxmaj the air is fragrant with the new - xxunk hay , \\n xxmaj and xxunk with hum of myriad flies pursued \\n xxmaj by xxunk xxunk . xxmaj all yon xxunk wood \\n xxmaj is drowned in sunshine till its green looks grey . \\n xxmaj no xxunk of cloud is in the still blue sky , \\n xxmaj xxunk with heat , from which the xxunk trees \\n xxmaj stand out -- each leaf cut sharp . xxmaj the xxunk scythe \\n xxmaj makes xxunk music for me as i lie , \\n xxmaj watching the xxunk of the children xxunk , \\n xxmaj drinking the season 's sweetness to the xxunk .\",\n",
       " \"xxbos \\n\\n xxup see , dear , what thy lover brings ; \\n ' xxmaj tis the flower with the white wings . \\n xxmaj xxunk upon the quiet stream \\n xxmaj in the spring it lay xxunk . \\n\\n\\n xxmaj xxunk to bestow this guest , \\n xxmaj lodge it , dear one , in thy breast ; \\n xxmaj there its leaves the secret keep \\n xxmaj of a wave both still and deep . \\n\\n\\n xxmaj child , beware the xxunk - fed stream ; \\n xxmaj danger , danger , there to dream ! \\n xxmaj though the sprite xxunk to sleep , \\n xxmaj and above the lilies xxunk . \\n\\n\\n xxmaj child , thy bosom is the stream ; \\n xxmaj danger , danger , there to dream ! \\n xxmaj though above the lilies xxunk , \\n xxmaj and the sprite xxunk to sleep .\",\n",
       " \"xxbos \\n\\n xxmaj these are ashes of treasures : \\n xxmaj of hurt and loss . \\n xxmaj these are ashes in face of which \\n xxmaj granite is dross . \\n xxmaj dove , naked and brilliant , \\n xxmaj it has no mate . \\n xxmaj xxunk 's ashes \\n xxmaj over vanity that 's great . \\n xxmaj time 's xxunk xxunk , \\n xxmaj not to be xxunk . \\n xxmaj means xxmaj god xxunk at the door \\n -- xxmaj once the house has burned down ! \\n xxmaj not xxunk yet by refuse , \\n xxmaj days ' and dreams ' conqueror . \\n xxmaj like a xxunk -- xxmaj spirit \\n xxmaj of early grey hair . \\n xxmaj it 's not you who 've betrayed me \\n xxmaj on the home front , years . \\n xxmaj this grey is the triumph \\n xxmaj of immortal powers .\"]"
      ]
     },
     "execution_count": 15,
     "metadata": {},
     "output_type": "execute_result"
    }
   ],
   "source": [
    "test = [valid_text[1],valid_text[4],valid_text[5]]\n",
    "test"
   ]
  },
  {
   "cell_type": "code",
   "execution_count": 17,
   "metadata": {},
   "outputs": [],
   "source": [
    "import string\n",
    "def post_process(text):\n",
    "    #text = text.replace('\\n','\\\\n')\n",
    "    text = text.split()\n",
    "    new_text = ''\n",
    "    for i in range(len(text)):\n",
    "        if text[i] in ['xxmaj','xxup'] and i+1<len(text): text[i+1] = text[i+1].capitalize()\n",
    "        if text[i] == 'i': text[i] = text[i].capitalize()\n",
    "    for tok in text:\n",
    "        if tok in string.punctuation or tok in [\"\\'m\",\"n\\'t\",\"\\'ll\"]:new_text+=tok\n",
    "        elif tok not in ['xxmaj','xxup','xxbos']:new_text+=' '+tok\n",
    "    return new_text.replace('\\\\n','\\n').replace('\" ','\"')"
   ]
  },
  {
   "cell_type": "code",
   "execution_count": 19,
   "metadata": {},
   "outputs": [
    {
     "data": {
      "text/plain": [
       "['xxbos',\n",
       " 'xxmaj',\n",
       " 'the',\n",
       " 'very',\n",
       " 'spirit',\n",
       " 'of',\n",
       " 'summer',\n",
       " 'breathes',\n",
       " 'to',\n",
       " '-',\n",
       " 'day',\n",
       " ',',\n",
       " '\\n',\n",
       " 'xxmaj',\n",
       " 'here',\n",
       " 'where',\n",
       " 'i',\n",
       " 'sun',\n",
       " 'me',\n",
       " 'in',\n",
       " 'a',\n",
       " 'dreamy',\n",
       " 'mood',\n",
       " ',',\n",
       " '\\n',\n",
       " 'xxmaj',\n",
       " 'and',\n",
       " 'laps',\n",
       " 'the',\n",
       " 'sultry',\n",
       " 'xxunk',\n",
       " ',',\n",
       " 'and',\n",
       " 'seems',\n",
       " 'to',\n",
       " 'brood',\n",
       " '\\n',\n",
       " 'xxmaj',\n",
       " 'tenderly',\n",
       " \"o'er\",\n",
       " 'those',\n",
       " 'xxunk',\n",
       " 'hills',\n",
       " 'far',\n",
       " 'away',\n",
       " '.',\n",
       " '\\n',\n",
       " 'xxmaj',\n",
       " 'the',\n",
       " 'air',\n",
       " 'is',\n",
       " 'fragrant',\n",
       " 'with',\n",
       " 'the',\n",
       " 'new',\n",
       " '-',\n",
       " 'xxunk',\n",
       " 'hay',\n",
       " ',',\n",
       " '\\n',\n",
       " 'xxmaj',\n",
       " 'and',\n",
       " 'xxunk',\n",
       " 'with',\n",
       " 'hum',\n",
       " 'of',\n",
       " 'myriad',\n",
       " 'flies',\n",
       " 'pursued',\n",
       " '\\n',\n",
       " 'xxmaj',\n",
       " 'by',\n",
       " 'xxunk',\n",
       " 'xxunk',\n",
       " '.',\n",
       " 'xxmaj',\n",
       " 'all',\n",
       " 'yon',\n",
       " 'xxunk',\n",
       " 'wood',\n",
       " '\\n',\n",
       " 'xxmaj',\n",
       " 'is',\n",
       " 'drowned',\n",
       " 'in',\n",
       " 'sunshine',\n",
       " 'till',\n",
       " 'its',\n",
       " 'green',\n",
       " 'looks',\n",
       " 'grey',\n",
       " '.',\n",
       " '\\n',\n",
       " 'xxmaj',\n",
       " 'no',\n",
       " 'xxunk',\n",
       " 'of',\n",
       " 'cloud',\n",
       " 'is',\n",
       " 'in',\n",
       " 'the',\n",
       " 'still',\n",
       " 'blue',\n",
       " 'sky',\n",
       " ',',\n",
       " '\\n',\n",
       " 'xxmaj',\n",
       " 'xxunk',\n",
       " 'with',\n",
       " 'heat',\n",
       " ',',\n",
       " 'from',\n",
       " 'which',\n",
       " 'the',\n",
       " 'xxunk',\n",
       " 'trees',\n",
       " '\\n',\n",
       " 'xxmaj',\n",
       " 'stand',\n",
       " 'out',\n",
       " '--',\n",
       " 'each',\n",
       " 'leaf',\n",
       " 'cut',\n",
       " 'sharp',\n",
       " '.',\n",
       " 'xxmaj',\n",
       " 'the',\n",
       " 'xxunk',\n",
       " 'scythe',\n",
       " '\\n',\n",
       " 'xxmaj',\n",
       " 'makes',\n",
       " 'xxunk',\n",
       " 'music',\n",
       " 'for',\n",
       " 'me',\n",
       " 'as',\n",
       " 'i',\n",
       " 'lie',\n",
       " ',',\n",
       " '\\n',\n",
       " 'xxmaj',\n",
       " 'watching',\n",
       " 'the',\n",
       " 'xxunk',\n",
       " 'of',\n",
       " 'the',\n",
       " 'children',\n",
       " 'xxunk',\n",
       " ',',\n",
       " '\\n',\n",
       " 'xxmaj',\n",
       " 'drinking',\n",
       " 'the',\n",
       " 'season',\n",
       " \"'s\",\n",
       " 'sweetness',\n",
       " 'to',\n",
       " 'the',\n",
       " 'xxunk',\n",
       " '.']"
      ]
     },
     "execution_count": 19,
     "metadata": {},
     "output_type": "execute_result"
    }
   ],
   "source": [
    "seed = test[0].split(' ')\n",
    "seed"
   ]
  },
  {
   "cell_type": "code",
   "execution_count": 22,
   "metadata": {},
   "outputs": [],
   "source": [
    "preds = []\n",
    "for text in test:\n",
    "    seed = text.split(' ')\n",
    "    num_words = len(seed)\n",
    "    seed = ' '.join(t for t in seed[:len(seed)//4])\n",
    "    preds.append(learn.predict(seed,num_words))"
   ]
  },
  {
   "cell_type": "code",
   "execution_count": 23,
   "metadata": {
    "scrolled": true
   },
   "outputs": [
    {
     "name": "stdout",
     "output_type": "stream",
     "text": [
      "-------poem start-------\n",
      " The very spirit of summer breathes to- day, \n",
      " Here where I sun me in a dreamy mood, \n",
      " And laps the sultry xxunk, and seems to brood \n",
      " Tenderly o'er the city life and time. \n",
      "\n",
      "\n",
      " But the busy valley din with bent wings, \n",
      " Comes still closer to the flash of the lightning toward the sky, the sky 's sombre grave,& the pale rainbow 's glare runs over everything. \n",
      "\n",
      " Among all the brave and brave men in America, \n",
      " Dome- On- Shore, \n",
      " o Captain Sunrise, \n",
      " They fill the very place of mine hate, \n",
      " Where I those days beheld the entered spout \n",
      " Of the sea of men and beneath which your glittering feet are plucked; \n",
      " Across the goblet of gentle love, how sleep it seems, \n",
      " Sleep- breathing like a rich dying dream! \n",
      "\n",
      "\n",
      " Fifty long years from the death, \n",
      " Not one of the many who can be seen in\n",
      "-------poem end---------\n",
      "-------poem start-------\n",
      " \n",
      "\n",
      " See, dear, what thy lover brings; \n",
      "' Tis the flower with the white wings. \n",
      " Xxunk upon the quiet stream \n",
      " In the spring it lay xxunk -- dead, toss from side alone, \n",
      " Into a garland of flowers too simple to yield. a glimpse with planted eager hearts \n",
      " Was erected singing in the deep; \n",
      " Sun brought a glance at the sky, \n",
      " And the sparrows sang in their hollow. \n",
      "\n",
      "\n",
      " a bank of reeds, the circuit of the moon, lend itself to a torch. \n",
      "\n",
      "\n",
      " Here, where the sand is cold, the ivy is smooth and bare,( Skeleton- conceived,) nor some mortal center. \n",
      "\n",
      "\n",
      " The lake is inspired with the fine imagination, \n",
      " The trees are before me. Here lies Satan, the dangerous man. \n",
      " He whom I loved and escaped \n",
      " In his set of terror unto Truth, holds\n",
      "-------poem end---------\n",
      "-------poem start-------\n",
      " \n",
      "\n",
      " These are ashes of treasures: \n",
      " Of hurt and loss. \n",
      " These are ashes in face of which \n",
      " Granite is dross. \n",
      " Dove, naked and brilliant, \n",
      " All Antique Art yonder \n",
      " Wears a heavy pink, \n",
      " To whom the \n",
      "\n",
      " I 've missed your dawn \n",
      " By going to some square house \n",
      " In the City of Fame ... I did not mind, \n",
      " But to have you gone home. Having not many lands, I want to live \n",
      " In silence. This waste of trees and grasses, \n",
      " This morning heat of the fair and the mild, \n",
      " They would be swallowed if they could only get a look, \n",
      " And always cling to my wrists. \n",
      "\n",
      "\n",
      " I admit it. \n",
      "\n",
      "\n",
      " It can't be done, on ground or with hills, it may black and dust. \n",
      "\n",
      " No, Gods, pit I am long in\n",
      "-------poem end---------\n"
     ]
    }
   ],
   "source": [
    "for pred in preds:\n",
    "    print('-------poem start-------')\n",
    "    print(post_process(pred))\n",
    "    print('-------poem end---------')"
   ]
  },
  {
   "cell_type": "code",
   "execution_count": 11,
   "metadata": {},
   "outputs": [
    {
     "data": {
      "text/plain": [
       "(['xxbos',\n",
       "  'xxup',\n",
       "  'see',\n",
       "  ',',\n",
       "  'dear',\n",
       "  ',',\n",
       "  'what',\n",
       "  'thy',\n",
       "  'lover',\n",
       "  'brings',\n",
       "  ';',\n",
       "  \"'\",\n",
       "  'xxmaj',\n",
       "  'tis',\n",
       "  'the',\n",
       "  'flower',\n",
       "  'with',\n",
       "  'the',\n",
       "  'white',\n",
       "  'wings',\n",
       "  '.',\n",
       "  'xxmaj',\n",
       "  'xxunk',\n",
       "  'upon',\n",
       "  'the',\n",
       "  'quiet',\n",
       "  'stream',\n",
       "  'xxmaj',\n",
       "  'in',\n",
       "  'the',\n",
       "  'spring',\n",
       "  'it',\n",
       "  'lay',\n",
       "  'xxunk',\n",
       "  '.',\n",
       "  'xxmaj',\n",
       "  'xxunk',\n",
       "  'to',\n",
       "  'bestow',\n",
       "  'this',\n",
       "  'guest',\n",
       "  ',',\n",
       "  'xxmaj',\n",
       "  'lodge',\n",
       "  'it',\n",
       "  ',',\n",
       "  'dear',\n",
       "  'one',\n",
       "  ',',\n",
       "  'in',\n",
       "  'thy',\n",
       "  'breast',\n",
       "  ';',\n",
       "  'xxmaj',\n",
       "  'there',\n",
       "  'its',\n",
       "  'leaves',\n",
       "  'the',\n",
       "  'secret',\n",
       "  'keep',\n",
       "  'xxmaj',\n",
       "  'of',\n",
       "  'a',\n",
       "  'wave',\n",
       "  'both',\n",
       "  'still',\n",
       "  'and',\n",
       "  'deep',\n",
       "  '.',\n",
       "  'xxmaj',\n",
       "  'child',\n",
       "  ',',\n",
       "  'beware',\n",
       "  'the',\n",
       "  'xxunk',\n",
       "  '-',\n",
       "  'fed',\n",
       "  'stream',\n",
       "  ';',\n",
       "  'xxmaj',\n",
       "  'danger',\n",
       "  ',',\n",
       "  'danger',\n",
       "  ',',\n",
       "  'there',\n",
       "  'to',\n",
       "  'dream',\n",
       "  '!',\n",
       "  'xxmaj',\n",
       "  'though',\n",
       "  'the',\n",
       "  'sprite',\n",
       "  'xxunk',\n",
       "  'to',\n",
       "  'sleep',\n",
       "  ',',\n",
       "  'xxmaj',\n",
       "  'and',\n",
       "  'above',\n",
       "  'the',\n",
       "  'lilies',\n",
       "  'xxunk',\n",
       "  '.',\n",
       "  'xxmaj',\n",
       "  'child',\n",
       "  ',',\n",
       "  'thy',\n",
       "  'bosom',\n",
       "  'is',\n",
       "  'the',\n",
       "  'stream',\n",
       "  ';',\n",
       "  'xxmaj',\n",
       "  'danger',\n",
       "  ',',\n",
       "  'danger',\n",
       "  ',',\n",
       "  'there',\n",
       "  'to',\n",
       "  'dream',\n",
       "  '!',\n",
       "  'xxmaj',\n",
       "  'though',\n",
       "  'above',\n",
       "  'the',\n",
       "  'lilies',\n",
       "  'xxunk',\n",
       "  ',',\n",
       "  'xxmaj',\n",
       "  'and',\n",
       "  'the',\n",
       "  'sprite',\n",
       "  'xxunk',\n",
       "  'to',\n",
       "  'sleep',\n",
       "  '.'],\n",
       " 136)"
      ]
     },
     "execution_count": 11,
     "metadata": {},
     "output_type": "execute_result"
    }
   ],
   "source": [
    "text = valid_text[4]\n",
    "text = text.split()\n",
    "text, len(text)"
   ]
  },
  {
   "cell_type": "code",
   "execution_count": 15,
   "metadata": {},
   "outputs": [
    {
     "data": {
      "text/plain": [
       "(\"xxbos \\n\\n xxup see , dear , what thy lover brings ; \\n ' xxmaj tis the flower with the white wings . \\n xxmaj xxunk upon the quiet stream \\n xxmaj in the spring it lay xxunk\",\n",
       " 136,\n",
       " 677)"
      ]
     },
     "execution_count": 15,
     "metadata": {},
     "output_type": "execute_result"
    }
   ],
   "source": [
    "#seed = ' '.join(o for o in text[:len(valid[4])//4])\n",
    "#seed = 'xxbos \\n\\n xxmaj these are ashes of treasures : \\n xxmaj of hurt and loss . \\n xxmaj these are ashes in face of which \\n xxmaj granite is dross . \\n xxmaj dove , naked and brilliant'\n",
    "valid_text[4][:len(valid_text[4])//4],len(text),len(valid_text[4])"
   ]
  },
  {
   "cell_type": "code",
   "execution_count": 32,
   "metadata": {},
   "outputs": [
    {
     "data": {
      "text/plain": [
       "\"xxbos \\n\\n xxmaj these are ashes of treasures : \\n xxmaj of hurt and loss . \\n xxmaj these are ashes in face of which \\n xxmaj granite is dross . \\n xxmaj dove , naked and brilliant \\n  xxmaj is the perfection that is mournfully \\n\\n\\n xxmaj or end . \\n xxmaj let us look at the sky , and see if there \\n  xxmaj is nothing for it but a sky . ' \\n\\n\\n xxmaj give me bitten \\n xxmaj by the xxmaj mouth of the xxmaj gaping xxmaj bird . ' \\n\\n\\n xxmaj mary ; -- \\n\\n\\n\\n xxmaj childhood . \\n\\n\\n\\n you step on the xxmaj step , eyes of xxmaj true \\n  xxmaj rest do you not xxmaj give to xxmaj faith , xxmaj dreams joys for you ? , rest with your hands \\n  xxmaj and rest xxmaj your flower upon your xxmaj breast . xxmaj rest yourself after your rest , for even if your eyes ( the lips ? ) are but a wooden xxmaj rod of\""
      ]
     },
     "execution_count": 32,
     "metadata": {},
     "output_type": "execute_result"
    }
   ],
   "source": [
    "learn.predict(valid_text[5][:175],len(text))"
   ]
  },
  {
   "cell_type": "code",
   "execution_count": 20,
   "metadata": {},
   "outputs": [
    {
     "data": {
      "text/plain": [
       "\"xxbos xxmaj let us sit by a xxunk steam xxunk a winter 's day , gray wind xxunk frozen xxunk on the window , xxmaj and let us talk about milk wagon xxunk and xxunk xxunk boys . xxmaj let us keep our feet in the warm in order to wash the milk . \\n xxmaj little xxmaj white - xxmaj flakes of fifty pounds of flour and some of anything is bitter stout . \\n xxmaj we must dig for mines in stone and stone , antique pine , chalk and found in stones . \\n xxmaj we seek all by xxmaj fire - river , and lose our way over xxmaj channel by a xxmaj sail , by the white laughter of the xxmaj light - xxmaj truth . xxbos \\n\\n xxmaj love is enough : the truth is whole : \\n xxmaj and this is what we are all brothers which ought \\n xxmaj to love each other , all hearts wise . \\n\\n\\n xxmaj but what is evil ; we love all \\n  xxmaj our love and looks for we are to live , \\n xxmaj we handle it as a gift and a glory , \\n xxmaj and our body is a gift , a gift , a gift . \\n\\n\\n xxmaj we want the best and most cloudless stick \\n xxmaj\""
      ]
     },
     "execution_count": 20,
     "metadata": {},
     "output_type": "execute_result"
    }
   ],
   "source": [
    "learn.predict(seed,len(text))"
   ]
  },
  {
   "cell_type": "code",
   "execution_count": 16,
   "metadata": {},
   "outputs": [
    {
     "data": {
      "text/plain": [
       "\"xxbos \\n\\n xxup see , dear , what thy lover brings ; \\n ' xxmaj tis the flower with the white wings . \\n xxmaj xxunk upon the quiet stream \\n xxmaj in the spring it lay xxunk xxmaj holy xxmaj moving 's band . \\n\\n\\n xxmaj soul that sees the perfume and brooded so , \\n  xxmaj the spirit thinks the fruit is as its wing and the skies are full of it . \\n xxmaj tore from strife , the cup the fairest flies , \\n xxmaj the although the soul itself shows there is nothing before them . xxbos \\n\\n xxmaj the music that told me \\n of sultry heat , \\n  xxmaj cheerful you , \\n xxmaj arose from hours to hour , \\n xxmaj birds that come and go ; \\n xxmaj moon , stars that never rose , \\n  xxmaj seemed to me like fragrance ; \\n  xxmaj there was light and purple cheek , \\n xxmaj and beauty of these everything i said \\n  taught me ;\""
      ]
     },
     "execution_count": 16,
     "metadata": {},
     "output_type": "execute_result"
    }
   ],
   "source": [
    "learn.predict(valid_text[4][:len(valid_text[4])//4],136)"
   ]
  },
  {
   "cell_type": "code",
   "execution_count": 39,
   "metadata": {},
   "outputs": [],
   "source": [
    "preds = []\n",
    "for text in valid_text:\n",
    "    preds.append(learn.predict(text[:len(text)//4],len(text)))"
   ]
  },
  {
   "cell_type": "code",
   "execution_count": 40,
   "metadata": {},
   "outputs": [
    {
     "data": {
      "text/plain": [
       "(\"xxbos \\n\\n xxmaj to what serves mortal beauty ' xxunk ; does set xxunk \\n ing blood — the o - seal - that - so ' feature , flung xxunk form \\n xxmaj than xxmaj xxunk tune lets tread to ? ' xxmaj see : it does this : keeps warm \\n xxmaj men ’s wits to the things that are ; ' what good means — where a glance \\n xxmaj master more may than gaze , ' gaze out of countenance . \\n xxmaj those lovely xxunk once , wet - fresh ' xxunk of war ’s storm , \\n xxmaj how then should xxmaj xxunk , a father , ' have xxunk else from xxunk \\n xxunk xxmaj rome ? xxmaj but xxmaj god to a nation ' dealt that day ’s dear chance . \\n xxmaj to man , that needs would worship ' xxunk or barren stone , \\n xxmaj our law says : xxmaj love what are ' love ’s xxunk , were all known ; \\n xxmaj world ’s loveliest — men ’s xxunk . xxmaj self ' flashes off frame and face . \\n xxmaj what do then ? how meet beauty ? ' xxmaj merely meet it ; own , \\n xxmaj home at heart , heaven ’s sweet gift ; ' then leave , let that alone . \\n xxmaj yea , wish that though , wish all , ' xxmaj god ’s better beauty , grace .\",\n",
       " \"xxbos \\n\\n xxmaj to what serves mortal beauty ' xxunk ; does set xxunk \\n ing blood — the o - seal - that - so ' feature , flung xxunk form \\n xxmaj than xxmaj xxunk tune lets tread to ? ' xxmaj see : it does this : keeps warm \\n xxmaj men ’s wits to the things that are ; ' what good means — where a glance \\n xxmaj master more may than gaze , ' gaze out of countenance . \\n xxmaj those lovely xxunk once , wet - fresh ' xxunk of war ’s storm , \\n xxmaj how then should xxmaj xxunk , a father , ' have xxunk else from xxunk \\n xxunk xxmaj rome ? xxmaj but xxmaj god to a nation ' dealt that day ’s dear chance . \\n xxmaj to man , that needs would worship ' xxunk or barren stone , \\n xxmaj our law says : xxmaj love what are ' love ’s xxunk , were all known ; \\n xxmaj world ’s loveliest — men ’s xxunk . xxmaj self ' flashes off frame and face . \\n xxmaj what do then ? how meet beauty ? ' xxmaj merely meet it ; own , \\n xxmaj home at heart , heaven ’s sweet gift ; ' then leave , let that alone . \\n xxmaj yea , wish that though , wish all , ' xxmaj god ’s better beauty , grace . xxbos \\n\\n\\n xxmaj ah slowly i see the dogs of the bush \\n xxmaj how must i shall be your fellow \\n\\n\\n xxmaj owl \\n xxmaj in xxmaj cunning and xxmaj wisdom \\n xxmaj to xxmaj stay and xxmaj enjoy \\n xxmaj and xxmaj nature is dangerous \\n  xxmaj and i am too bold \\n xxmaj so can i lift \\n xxmaj make the same catch the way \\n xxmaj\")"
      ]
     },
     "execution_count": 40,
     "metadata": {},
     "output_type": "execute_result"
    }
   ],
   "source": [
    "valid_text[0], preds[0]"
   ]
  },
  {
   "cell_type": "code",
   "execution_count": null,
   "metadata": {},
   "outputs": [],
   "source": [
    "with open(path/'valid_preds.txt','w') as f:\n",
    "    for i in range(len(preds)):\n",
    "        f.write(valid_text[i]+'\\n\\n\\n\\n'+preds[i]++'\\n\\n\\n\\n\\n\\n\\n')"
   ]
  },
  {
   "cell_type": "code",
   "execution_count": 43,
   "metadata": {},
   "outputs": [
    {
     "name": "stdout",
     "output_type": "stream",
     "text": [
      "O captain my captain is now gay . sea , the last of the sky is mine . xxmaj take none . xxmaj oh no ! \" xxmaj oh well , there is no lesson or kind . \" xxbos xxmaj one day when he was scared while watching the hours \n",
      " xxmaj fall of dry time . xxmaj ghost \n",
      " xxmaj try , close - up in the hot weather , \n",
      " xxmaj see how i was struck , \n",
      " xxmaj and what would be wrong for artist artist to have hands \n",
      " a light for light eyes or a smile on my\n"
     ]
    }
   ],
   "source": [
    "print(\"\\n\".join(learn.predict(TEXT, N_WORDS, no_unk=False) for _ in range(N_SENTENCES)))"
   ]
  },
  {
   "cell_type": "markdown",
   "metadata": {},
   "source": [
    "We have to save the model but also it's encoder, the part that's responsible for creating and updating the hidden state. For the next part, we don't care about the part that tries to guess the next word."
   ]
  },
  {
   "cell_type": "code",
   "execution_count": 27,
   "metadata": {},
   "outputs": [],
   "source": [
    "learn.save_encoder('poems_fine_tuned_enc')"
   ]
  },
  {
   "cell_type": "code",
   "execution_count": 11,
   "metadata": {},
   "outputs": [],
   "source": [
    "preds = learn.pred_batch(data_lm.valid_ds)"
   ]
  },
  {
   "cell_type": "code",
   "execution_count": 24,
   "metadata": {},
   "outputs": [
    {
     "data": {
      "text/plain": [
       "[tensor([[7.2770e-03, 5.4183e-09, 8.2082e-06,  ..., 3.6127e-06, 2.1185e-06,\n",
       "          1.5983e-06],\n",
       "         [4.0108e-03, 3.4691e-10, 1.2907e-07,  ..., 4.3498e-08, 4.2136e-08,\n",
       "          6.2436e-07],\n",
       "         [1.3981e-02, 3.7564e-09, 7.3971e-05,  ..., 5.6119e-07, 6.6024e-07,\n",
       "          3.9260e-06],\n",
       "         ...,\n",
       "         [2.0507e-03, 5.3355e-10, 2.5726e-07,  ..., 3.0511e-07, 3.3347e-07,\n",
       "          4.7480e-07],\n",
       "         [4.3454e-01, 4.2099e-09, 3.2343e-05,  ..., 4.9641e-06, 3.8613e-06,\n",
       "          3.3842e-06],\n",
       "         [8.5676e-03, 1.9938e-09, 3.5573e-06,  ..., 1.5093e-06, 1.3036e-06,\n",
       "          1.6957e-07]]), tensor([[ 147,    4,   53,  ...,   27,  106,   10],\n",
       "         [   4,   56,    0,  ...,    4,  574,  189],\n",
       "         [1043,   18,   12,  ..., 6256, 5214,  322],\n",
       "         ...,\n",
       "         [   4,    4,   10,  ...,    8,   11,  122],\n",
       "         [2837, 2354,  226,  ...,    4, 2022,   60],\n",
       "         [  21,  491,   13,  ...,   33, 1391,   83]])]"
      ]
     },
     "execution_count": 24,
     "metadata": {},
     "output_type": "execute_result"
    }
   ],
   "source": [
    "learn.get_preds(data_lm.valid_ds)"
   ]
  },
  {
   "cell_type": "code",
   "execution_count": 17,
   "metadata": {},
   "outputs": [],
   "source": [
    "valid_x = data_lm.valid_ds.x"
   ]
  },
  {
   "cell_type": "code",
   "execution_count": 23,
   "metadata": {},
   "outputs": [
    {
     "data": {
      "text/plain": [
       "array([array([  2,  27,   4,  14, ..., 140,   9, 478,  12]), array([  2,   4,  10, 371, ...,  14,  10,   0,  12]),\n",
       "       array([  2, 119,   5, 344, ...,  82,  33,  43,  26]), array([  2,   4, 125, 113, ...,  16,  10, 106,  12]), ...,\n",
       "       array([   2,   27,    4, 3102, ...,   74,  797, 4737,   50]),\n",
       "       array([  2,  27,   4,  29, ..., 200,  10, 245,  12]), array([2]),\n",
       "       array([   2,   27,    4,   49, ...,   15, 1655, 3043,   12])], dtype=object)"
      ]
     },
     "execution_count": 23,
     "metadata": {},
     "output_type": "execute_result"
    }
   ],
   "source": [
    "valid_x.items"
   ]
  },
  {
   "cell_type": "code",
   "execution_count": null,
   "metadata": {},
   "outputs": [],
   "source": []
  }
 ],
 "metadata": {
  "kernelspec": {
   "display_name": "Python 3",
   "language": "python",
   "name": "python3"
  },
  "language_info": {
   "codemirror_mode": {
    "name": "ipython",
    "version": 3
   },
   "file_extension": ".py",
   "mimetype": "text/x-python",
   "name": "python",
   "nbconvert_exporter": "python",
   "pygments_lexer": "ipython3",
   "version": "3.6.7"
  }
 },
 "nbformat": 4,
 "nbformat_minor": 2
}
