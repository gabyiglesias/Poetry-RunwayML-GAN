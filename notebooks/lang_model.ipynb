{
 "cells": [
  {
   "cell_type": "code",
   "execution_count": 1,
   "metadata": {},
   "outputs": [],
   "source": [
    "%reload_ext autoreload\n",
    "%autoreload 2\n",
    "%matplotlib inline"
   ]
  },
  {
   "cell_type": "code",
   "execution_count": 1,
   "metadata": {},
   "outputs": [],
   "source": [
    "#export\n",
    "from fastai import *\n",
    "from fastai.text import *\n",
    "from fastai.callbacks.tracker import SaveModelCallback, EarlyStoppingCallback"
   ]
  },
  {
   "cell_type": "code",
   "execution_count": 2,
   "metadata": {},
   "outputs": [],
   "source": [
    "#export\n",
    "models = {'AWD':AWD_LSTM, 'XL':TransformerXL}\n",
    "\n",
    "#train language model with either AWD_LSTM or TransformerXL archs and generate preds\n",
    "def train_lm(path,filename,model='AWD_LSTM',\n",
    "             epochs=8,pretrained_fnames=None,preds=True):\n",
    "    \n",
    "    #get data after running preprocess\n",
    "    print(f'loading data from {path}/{filename};')\n",
    "    data_lm = load_data(path,filename, bs=64,bptt=70)\n",
    "    \n",
    "    #change config if XL\n",
    "    if model == 'XL': \n",
    "        config = tfmerXL_lm_config.copy()\n",
    "        config['mem_len'] = 150\n",
    "        config['output_p'] = 0.1\n",
    "        config['embed_p'] = 0.1\n",
    "        config['ff_p'] = 0.1\n",
    "        config['resid_p'] = 0.1\n",
    "        config['d_inner'] = 1024\n",
    "        config['d_model'] = 128\n",
    "    else: config=None\n",
    "    \n",
    "    #load pretrained weights\n",
    "    if pretrained_fnames: pretrained_fnames = pretrained_fnames.split(',')\n",
    "    learn = language_model_learner(data_lm,models[model],\n",
    "                                   config=config,pretrained=False,\n",
    "                                   pretrained_fnames=pretrained_fnames)\n",
    "    print(f'training lm model {model}; pretrained from {pretrained_fnames};')\n",
    "    \n",
    "    #early stopping and saving at every epoch\n",
    "    cb = [SaveModelCallback(learn),EarlyStoppingCallback(learn)]\n",
    "    \n",
    "    if pretrained_fnames:\n",
    "        #layered training\n",
    "        print(f'training lm model head;')\n",
    "        learn.fit_one_cycle(1, 3e-3, moms=(0.8,0.7))\n",
    "        print(f'saving lm model head to {path}/{filename}_head;')\n",
    "        learn.save(filename+'_head')\n",
    "        learn.unfreeze()\n",
    "        \n",
    "    print(f'training for {epochs} epochs')\n",
    "    learn.fit_one_cycle(epochs, 3e-4, moms=(0.8,0.7),callbacks=cb)\n",
    "    print(f'saving model to {path}/{filename}_finetuned')\n",
    "    learn.save(filename+'_finetuned')\n",
    "    \n",
    "    #generate outputs from validation set\n",
    "    if preds:\n",
    "        print(f'generating predictions and saving to {path}/{filename}_preds.txt;')\n",
    "        get_valid_preds(learn,data_lm,filename+'_'+model+'_preds.txt')"
   ]
  },
  {
   "cell_type": "code",
   "execution_count": 22,
   "metadata": {},
   "outputs": [],
   "source": [
    "#export\n",
    "\n",
    "import string\n",
    "def post_process(text):\n",
    "    text = text.replace('\\n','\\\\n')\n",
    "    text = text.split()\n",
    "    new_text = ''\n",
    "    for i in range(len(text)):\n",
    "        if text[i] in ['xxmaj','xxup'] and i+1<len(text): text[i+1] = text[i+1].capitalize()\n",
    "        if text[i] == 'i': text[i] = text[i].capitalize()\n",
    "    for tok in text:\n",
    "        if tok in string.punctuation or tok in [\"\\'m\",\"n\\'t\",\"\\'ll\",\"\\'s\",\"\\'ve\"]:new_text+=tok\n",
    "        elif tok not in ['xxmaj','xxup','xxbos','xxrep']:new_text+=' '+tok\n",
    "    return new_text.replace('\\\\n','\\n').replace('\" ','\"').replace('&&','')\n",
    "\n",
    "def get_valid_preds(learn,data,file_name,test=None):\n",
    "    if not test:\n",
    "        test = []\n",
    "        for i in range(len(data.valid_ds)):\n",
    "            test.append(data.valid_ds.x.get(i).text)\n",
    "    tot = ''\n",
    "    with open(path/file_name) as f:\n",
    "        for text in test:\n",
    "            tot+=text\n",
    "            text = text.replace('\\n','\\\\n').split(' ')\n",
    "            num_words = len(text)\n",
    "            seed = text[:num_words//4]\n",
    "            seed = ' '.join(t for t in seed)\n",
    "            tot+='----------$----------'+seed\n",
    "            pred = post_process(learn.predict(seed,num_words-num_words//4))\n",
    "            tot+='----------$----------'+pred\n",
    "            f.write(tot+'\\n\\n\\n\\n\\n\\n\\n')"
   ]
  },
  {
   "cell_type": "code",
   "execution_count": null,
   "metadata": {
    "scrolled": true
   },
   "outputs": [],
   "source": [
    "#export\n",
    "import fire\n",
    "if __name__ == '__main__': fire.Fire(train_lm)"
   ]
  },
  {
   "cell_type": "code",
   "execution_count": 6,
   "metadata": {},
   "outputs": [
    {
     "name": "stdout",
     "output_type": "stream",
     "text": [
      "Converted lang_model.ipynb to ../lang_model.py\r\n"
     ]
    }
   ],
   "source": [
    "!/home/ubuntu/projects/creativity-model-zoo/notebooks/notebook2script.py lang_model.ipynb"
   ]
  },
  {
   "cell_type": "code",
   "execution_count": null,
   "metadata": {},
   "outputs": [],
   "source": []
  }
 ],
 "metadata": {
  "kernelspec": {
   "display_name": "Python 3",
   "language": "python",
   "name": "python3"
  },
  "language_info": {
   "codemirror_mode": {
    "name": "ipython",
    "version": 3
   },
   "file_extension": ".py",
   "mimetype": "text/x-python",
   "name": "python",
   "nbconvert_exporter": "python",
   "pygments_lexer": "ipython3",
   "version": "3.6.7"
  }
 },
 "nbformat": 4,
 "nbformat_minor": 2
}
